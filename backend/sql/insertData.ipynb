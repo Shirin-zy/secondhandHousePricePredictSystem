{
 "cells": [
  {
   "cell_type": "code",
   "execution_count": 7,
   "outputs": [],
   "source": [
    "from sqlalchemy import create_engine\n",
    "import pandas as pd\n",
    "import pymysql"
   ],
   "metadata": {
    "collapsed": false,
    "pycharm": {
     "name": "#%%\n"
    }
   }
  },
  {
   "cell_type": "code",
   "execution_count": 18,
   "outputs": [
    {
     "name": "stdout",
     "output_type": "stream",
     "text": [
      "Lock wait timeout exceeded, retrying...\n"
     ]
    },
    {
     "ename": "OperationalError",
     "evalue": "(1205, 'Lock wait timeout exceeded; try restarting transaction')",
     "output_type": "error",
     "traceback": [
      "\u001B[1;31m---------------------------------------------------------------------------\u001B[0m",
      "\u001B[1;31mOperationalError\u001B[0m                          Traceback (most recent call last)",
      "Cell \u001B[1;32mIn[18], line 30\u001B[0m\n\u001B[0;32m     29\u001B[0m \u001B[38;5;28;01mtry\u001B[39;00m:\n\u001B[1;32m---> 30\u001B[0m     cursor\u001B[38;5;241m.\u001B[39mexecute(sql, values)\n\u001B[0;32m     31\u001B[0m \u001B[38;5;28;01mexcept\u001B[39;00m pymysql\u001B[38;5;241m.\u001B[39mMySQLError \u001B[38;5;28;01mas\u001B[39;00m e:\n",
      "File \u001B[1;32m~\\AppData\\Roaming\\Python\\Python311\\site-packages\\pymysql\\cursors.py:153\u001B[0m, in \u001B[0;36mCursor.execute\u001B[1;34m(self, query, args)\u001B[0m\n\u001B[0;32m    151\u001B[0m query \u001B[38;5;241m=\u001B[39m \u001B[38;5;28mself\u001B[39m\u001B[38;5;241m.\u001B[39mmogrify(query, args)\n\u001B[1;32m--> 153\u001B[0m result \u001B[38;5;241m=\u001B[39m \u001B[38;5;28mself\u001B[39m\u001B[38;5;241m.\u001B[39m_query(query)\n\u001B[0;32m    154\u001B[0m \u001B[38;5;28mself\u001B[39m\u001B[38;5;241m.\u001B[39m_executed \u001B[38;5;241m=\u001B[39m query\n",
      "File \u001B[1;32m~\\AppData\\Roaming\\Python\\Python311\\site-packages\\pymysql\\cursors.py:322\u001B[0m, in \u001B[0;36mCursor._query\u001B[1;34m(self, q)\u001B[0m\n\u001B[0;32m    321\u001B[0m \u001B[38;5;28mself\u001B[39m\u001B[38;5;241m.\u001B[39m_clear_result()\n\u001B[1;32m--> 322\u001B[0m conn\u001B[38;5;241m.\u001B[39mquery(q)\n\u001B[0;32m    323\u001B[0m \u001B[38;5;28mself\u001B[39m\u001B[38;5;241m.\u001B[39m_do_get_result()\n",
      "File \u001B[1;32m~\\AppData\\Roaming\\Python\\Python311\\site-packages\\pymysql\\connections.py:563\u001B[0m, in \u001B[0;36mConnection.query\u001B[1;34m(self, sql, unbuffered)\u001B[0m\n\u001B[0;32m    562\u001B[0m \u001B[38;5;28mself\u001B[39m\u001B[38;5;241m.\u001B[39m_execute_command(COMMAND\u001B[38;5;241m.\u001B[39mCOM_QUERY, sql)\n\u001B[1;32m--> 563\u001B[0m \u001B[38;5;28mself\u001B[39m\u001B[38;5;241m.\u001B[39m_affected_rows \u001B[38;5;241m=\u001B[39m \u001B[38;5;28mself\u001B[39m\u001B[38;5;241m.\u001B[39m_read_query_result(unbuffered\u001B[38;5;241m=\u001B[39munbuffered)\n\u001B[0;32m    564\u001B[0m \u001B[38;5;28;01mreturn\u001B[39;00m \u001B[38;5;28mself\u001B[39m\u001B[38;5;241m.\u001B[39m_affected_rows\n",
      "File \u001B[1;32m~\\AppData\\Roaming\\Python\\Python311\\site-packages\\pymysql\\connections.py:825\u001B[0m, in \u001B[0;36mConnection._read_query_result\u001B[1;34m(self, unbuffered)\u001B[0m\n\u001B[0;32m    824\u001B[0m     result \u001B[38;5;241m=\u001B[39m MySQLResult(\u001B[38;5;28mself\u001B[39m)\n\u001B[1;32m--> 825\u001B[0m     result\u001B[38;5;241m.\u001B[39mread()\n\u001B[0;32m    826\u001B[0m \u001B[38;5;28mself\u001B[39m\u001B[38;5;241m.\u001B[39m_result \u001B[38;5;241m=\u001B[39m result\n",
      "File \u001B[1;32m~\\AppData\\Roaming\\Python\\Python311\\site-packages\\pymysql\\connections.py:1199\u001B[0m, in \u001B[0;36mMySQLResult.read\u001B[1;34m(self)\u001B[0m\n\u001B[0;32m   1198\u001B[0m \u001B[38;5;28;01mtry\u001B[39;00m:\n\u001B[1;32m-> 1199\u001B[0m     first_packet \u001B[38;5;241m=\u001B[39m \u001B[38;5;28mself\u001B[39m\u001B[38;5;241m.\u001B[39mconnection\u001B[38;5;241m.\u001B[39m_read_packet()\n\u001B[0;32m   1201\u001B[0m     \u001B[38;5;28;01mif\u001B[39;00m first_packet\u001B[38;5;241m.\u001B[39mis_ok_packet():\n",
      "File \u001B[1;32m~\\AppData\\Roaming\\Python\\Python311\\site-packages\\pymysql\\connections.py:775\u001B[0m, in \u001B[0;36mConnection._read_packet\u001B[1;34m(self, packet_type)\u001B[0m\n\u001B[0;32m    774\u001B[0m         \u001B[38;5;28mself\u001B[39m\u001B[38;5;241m.\u001B[39m_result\u001B[38;5;241m.\u001B[39munbuffered_active \u001B[38;5;241m=\u001B[39m \u001B[38;5;28;01mFalse\u001B[39;00m\n\u001B[1;32m--> 775\u001B[0m     packet\u001B[38;5;241m.\u001B[39mraise_for_error()\n\u001B[0;32m    776\u001B[0m \u001B[38;5;28;01mreturn\u001B[39;00m packet\n",
      "File \u001B[1;32m~\\AppData\\Roaming\\Python\\Python311\\site-packages\\pymysql\\protocol.py:219\u001B[0m, in \u001B[0;36mMysqlPacket.raise_for_error\u001B[1;34m(self)\u001B[0m\n\u001B[0;32m    218\u001B[0m     \u001B[38;5;28mprint\u001B[39m(\u001B[38;5;124m\"\u001B[39m\u001B[38;5;124merrno =\u001B[39m\u001B[38;5;124m\"\u001B[39m, errno)\n\u001B[1;32m--> 219\u001B[0m err\u001B[38;5;241m.\u001B[39mraise_mysql_exception(\u001B[38;5;28mself\u001B[39m\u001B[38;5;241m.\u001B[39m_data)\n",
      "File \u001B[1;32m~\\AppData\\Roaming\\Python\\Python311\\site-packages\\pymysql\\err.py:150\u001B[0m, in \u001B[0;36mraise_mysql_exception\u001B[1;34m(data)\u001B[0m\n\u001B[0;32m    149\u001B[0m     errorclass \u001B[38;5;241m=\u001B[39m InternalError \u001B[38;5;28;01mif\u001B[39;00m errno \u001B[38;5;241m<\u001B[39m \u001B[38;5;241m1000\u001B[39m \u001B[38;5;28;01melse\u001B[39;00m OperationalError\n\u001B[1;32m--> 150\u001B[0m \u001B[38;5;28;01mraise\u001B[39;00m errorclass(errno, errval)\n",
      "\u001B[1;31mOperationalError\u001B[0m: (1205, 'Lock wait timeout exceeded; try restarting transaction')",
      "\nDuring handling of the above exception, another exception occurred:\n",
      "\u001B[1;31mOperationalError\u001B[0m                          Traceback (most recent call last)",
      "Cell \u001B[1;32mIn[18], line 35\u001B[0m\n\u001B[0;32m     33\u001B[0m     \u001B[38;5;28mprint\u001B[39m(\u001B[38;5;124m\"\u001B[39m\u001B[38;5;124mLock wait timeout exceeded, retrying...\u001B[39m\u001B[38;5;124m\"\u001B[39m)\n\u001B[0;32m     34\u001B[0m     \u001B[38;5;66;03m# 重新尝试插入\u001B[39;00m\n\u001B[1;32m---> 35\u001B[0m     cursor\u001B[38;5;241m.\u001B[39mexecute(sql, values)\n\u001B[0;32m     36\u001B[0m \u001B[38;5;28;01melse\u001B[39;00m:\n\u001B[0;32m     37\u001B[0m     \u001B[38;5;28;01mraise\u001B[39;00m\n",
      "File \u001B[1;32m~\\AppData\\Roaming\\Python\\Python311\\site-packages\\pymysql\\cursors.py:153\u001B[0m, in \u001B[0;36mCursor.execute\u001B[1;34m(self, query, args)\u001B[0m\n\u001B[0;32m    149\u001B[0m     \u001B[38;5;28;01mpass\u001B[39;00m\n\u001B[0;32m    151\u001B[0m query \u001B[38;5;241m=\u001B[39m \u001B[38;5;28mself\u001B[39m\u001B[38;5;241m.\u001B[39mmogrify(query, args)\n\u001B[1;32m--> 153\u001B[0m result \u001B[38;5;241m=\u001B[39m \u001B[38;5;28mself\u001B[39m\u001B[38;5;241m.\u001B[39m_query(query)\n\u001B[0;32m    154\u001B[0m \u001B[38;5;28mself\u001B[39m\u001B[38;5;241m.\u001B[39m_executed \u001B[38;5;241m=\u001B[39m query\n\u001B[0;32m    155\u001B[0m \u001B[38;5;28;01mreturn\u001B[39;00m result\n",
      "File \u001B[1;32m~\\AppData\\Roaming\\Python\\Python311\\site-packages\\pymysql\\cursors.py:322\u001B[0m, in \u001B[0;36mCursor._query\u001B[1;34m(self, q)\u001B[0m\n\u001B[0;32m    320\u001B[0m conn \u001B[38;5;241m=\u001B[39m \u001B[38;5;28mself\u001B[39m\u001B[38;5;241m.\u001B[39m_get_db()\n\u001B[0;32m    321\u001B[0m \u001B[38;5;28mself\u001B[39m\u001B[38;5;241m.\u001B[39m_clear_result()\n\u001B[1;32m--> 322\u001B[0m conn\u001B[38;5;241m.\u001B[39mquery(q)\n\u001B[0;32m    323\u001B[0m \u001B[38;5;28mself\u001B[39m\u001B[38;5;241m.\u001B[39m_do_get_result()\n\u001B[0;32m    324\u001B[0m \u001B[38;5;28;01mreturn\u001B[39;00m \u001B[38;5;28mself\u001B[39m\u001B[38;5;241m.\u001B[39mrowcount\n",
      "File \u001B[1;32m~\\AppData\\Roaming\\Python\\Python311\\site-packages\\pymysql\\connections.py:563\u001B[0m, in \u001B[0;36mConnection.query\u001B[1;34m(self, sql, unbuffered)\u001B[0m\n\u001B[0;32m    561\u001B[0m     sql \u001B[38;5;241m=\u001B[39m sql\u001B[38;5;241m.\u001B[39mencode(\u001B[38;5;28mself\u001B[39m\u001B[38;5;241m.\u001B[39mencoding, \u001B[38;5;124m\"\u001B[39m\u001B[38;5;124msurrogateescape\u001B[39m\u001B[38;5;124m\"\u001B[39m)\n\u001B[0;32m    562\u001B[0m \u001B[38;5;28mself\u001B[39m\u001B[38;5;241m.\u001B[39m_execute_command(COMMAND\u001B[38;5;241m.\u001B[39mCOM_QUERY, sql)\n\u001B[1;32m--> 563\u001B[0m \u001B[38;5;28mself\u001B[39m\u001B[38;5;241m.\u001B[39m_affected_rows \u001B[38;5;241m=\u001B[39m \u001B[38;5;28mself\u001B[39m\u001B[38;5;241m.\u001B[39m_read_query_result(unbuffered\u001B[38;5;241m=\u001B[39munbuffered)\n\u001B[0;32m    564\u001B[0m \u001B[38;5;28;01mreturn\u001B[39;00m \u001B[38;5;28mself\u001B[39m\u001B[38;5;241m.\u001B[39m_affected_rows\n",
      "File \u001B[1;32m~\\AppData\\Roaming\\Python\\Python311\\site-packages\\pymysql\\connections.py:825\u001B[0m, in \u001B[0;36mConnection._read_query_result\u001B[1;34m(self, unbuffered)\u001B[0m\n\u001B[0;32m    823\u001B[0m \u001B[38;5;28;01melse\u001B[39;00m:\n\u001B[0;32m    824\u001B[0m     result \u001B[38;5;241m=\u001B[39m MySQLResult(\u001B[38;5;28mself\u001B[39m)\n\u001B[1;32m--> 825\u001B[0m     result\u001B[38;5;241m.\u001B[39mread()\n\u001B[0;32m    826\u001B[0m \u001B[38;5;28mself\u001B[39m\u001B[38;5;241m.\u001B[39m_result \u001B[38;5;241m=\u001B[39m result\n\u001B[0;32m    827\u001B[0m \u001B[38;5;28;01mif\u001B[39;00m result\u001B[38;5;241m.\u001B[39mserver_status \u001B[38;5;129;01mis\u001B[39;00m \u001B[38;5;129;01mnot\u001B[39;00m \u001B[38;5;28;01mNone\u001B[39;00m:\n",
      "File \u001B[1;32m~\\AppData\\Roaming\\Python\\Python311\\site-packages\\pymysql\\connections.py:1199\u001B[0m, in \u001B[0;36mMySQLResult.read\u001B[1;34m(self)\u001B[0m\n\u001B[0;32m   1197\u001B[0m \u001B[38;5;28;01mdef\u001B[39;00m \u001B[38;5;21mread\u001B[39m(\u001B[38;5;28mself\u001B[39m):\n\u001B[0;32m   1198\u001B[0m     \u001B[38;5;28;01mtry\u001B[39;00m:\n\u001B[1;32m-> 1199\u001B[0m         first_packet \u001B[38;5;241m=\u001B[39m \u001B[38;5;28mself\u001B[39m\u001B[38;5;241m.\u001B[39mconnection\u001B[38;5;241m.\u001B[39m_read_packet()\n\u001B[0;32m   1201\u001B[0m         \u001B[38;5;28;01mif\u001B[39;00m first_packet\u001B[38;5;241m.\u001B[39mis_ok_packet():\n\u001B[0;32m   1202\u001B[0m             \u001B[38;5;28mself\u001B[39m\u001B[38;5;241m.\u001B[39m_read_ok_packet(first_packet)\n",
      "File \u001B[1;32m~\\AppData\\Roaming\\Python\\Python311\\site-packages\\pymysql\\connections.py:775\u001B[0m, in \u001B[0;36mConnection._read_packet\u001B[1;34m(self, packet_type)\u001B[0m\n\u001B[0;32m    773\u001B[0m     \u001B[38;5;28;01mif\u001B[39;00m \u001B[38;5;28mself\u001B[39m\u001B[38;5;241m.\u001B[39m_result \u001B[38;5;129;01mis\u001B[39;00m \u001B[38;5;129;01mnot\u001B[39;00m \u001B[38;5;28;01mNone\u001B[39;00m \u001B[38;5;129;01mand\u001B[39;00m \u001B[38;5;28mself\u001B[39m\u001B[38;5;241m.\u001B[39m_result\u001B[38;5;241m.\u001B[39munbuffered_active \u001B[38;5;129;01mis\u001B[39;00m \u001B[38;5;28;01mTrue\u001B[39;00m:\n\u001B[0;32m    774\u001B[0m         \u001B[38;5;28mself\u001B[39m\u001B[38;5;241m.\u001B[39m_result\u001B[38;5;241m.\u001B[39munbuffered_active \u001B[38;5;241m=\u001B[39m \u001B[38;5;28;01mFalse\u001B[39;00m\n\u001B[1;32m--> 775\u001B[0m     packet\u001B[38;5;241m.\u001B[39mraise_for_error()\n\u001B[0;32m    776\u001B[0m \u001B[38;5;28;01mreturn\u001B[39;00m packet\n",
      "File \u001B[1;32m~\\AppData\\Roaming\\Python\\Python311\\site-packages\\pymysql\\protocol.py:219\u001B[0m, in \u001B[0;36mMysqlPacket.raise_for_error\u001B[1;34m(self)\u001B[0m\n\u001B[0;32m    217\u001B[0m \u001B[38;5;28;01mif\u001B[39;00m DEBUG:\n\u001B[0;32m    218\u001B[0m     \u001B[38;5;28mprint\u001B[39m(\u001B[38;5;124m\"\u001B[39m\u001B[38;5;124merrno =\u001B[39m\u001B[38;5;124m\"\u001B[39m, errno)\n\u001B[1;32m--> 219\u001B[0m err\u001B[38;5;241m.\u001B[39mraise_mysql_exception(\u001B[38;5;28mself\u001B[39m\u001B[38;5;241m.\u001B[39m_data)\n",
      "File \u001B[1;32m~\\AppData\\Roaming\\Python\\Python311\\site-packages\\pymysql\\err.py:150\u001B[0m, in \u001B[0;36mraise_mysql_exception\u001B[1;34m(data)\u001B[0m\n\u001B[0;32m    148\u001B[0m \u001B[38;5;28;01mif\u001B[39;00m errorclass \u001B[38;5;129;01mis\u001B[39;00m \u001B[38;5;28;01mNone\u001B[39;00m:\n\u001B[0;32m    149\u001B[0m     errorclass \u001B[38;5;241m=\u001B[39m InternalError \u001B[38;5;28;01mif\u001B[39;00m errno \u001B[38;5;241m<\u001B[39m \u001B[38;5;241m1000\u001B[39m \u001B[38;5;28;01melse\u001B[39;00m OperationalError\n\u001B[1;32m--> 150\u001B[0m \u001B[38;5;28;01mraise\u001B[39;00m errorclass(errno, errval)\n",
      "\u001B[1;31mOperationalError\u001B[0m: (1205, 'Lock wait timeout exceeded; try restarting transaction')"
     ]
    }
   ],
   "source": [
    "# 创建数据库连接\n",
    "connection = pymysql.connect(\n",
    "    host='localhost',       # 数据库服务器地址\n",
    "    user='root',    # 数据库用户名\n",
    "    password='zy15730850419',# 数据库密码\n",
    "    database='houseData',   # 要连接的数据库名\n",
    "    charset='utf8mb4',      # 字符集\n",
    "    cursorclass=pymysql.cursors.DictCursor  # 使用字典游标\n",
    ")\n",
    "with connection.cursor() as cursor:\n",
    "    # 执行查询\n",
    "    sql = \"SELECT * FROM historyData\"\n",
    "    cursor.execute(sql)\n",
    "\n",
    "    # 获取查询结果\n",
    "    result = cursor.fetchall()\n",
    "    for row in result:\n",
    "        print(row)\n",
    "\n",
    "data = pd.read_csv('../data/deal/total_forhistory.csv')\n",
    "data['街道'].fillna(data['街道'].mode()[0],inplace=True)\n",
    "# 将DataFrame中的每一行插入到数据库\n",
    "with connection.cursor() as cursor:\n",
    "    sql = \"\"\"\n",
    "            INSERT INTO historyData (uid, 小区名称, 总价, 单价, 关注度, 所在楼层, 建筑面积, 户型结构, 建筑类型, 房屋朝向, 建筑结构, 装修情况, 配备电梯, 交易权属, 房屋用途, 房屋年限, 产权所属, 抵押信息, 所在城市, 所在街道)\n",
    "            VALUES (%s, %s, %s, %s, %s, %s, %s, %s, %s, %s, %s, %s, %s, %s, %s, %s, %s, %s, %s, %s)\n",
    "            \"\"\"\n",
    "    values = tuple(row)\n",
    "    try:\n",
    "        cursor.execute(sql, values)\n",
    "    except pymysql.MySQLError as e:\n",
    "        if e.args[0] == 1205:  # Lock wait timeout exceeded\n",
    "            print(\"Lock wait timeout exceeded, retrying...\")\n",
    "            # 重新尝试插入\n",
    "            cursor.execute(sql, values)\n",
    "        else:\n",
    "            raise\n",
    "    connection.commit()\n",
    "\n",
    "connection.close()"
   ],
   "metadata": {
    "collapsed": false,
    "pycharm": {
     "name": "#%%\n"
    }
   }
  },
  {
   "cell_type": "code",
   "execution_count": null,
   "outputs": [],
   "source": [],
   "metadata": {
    "collapsed": false,
    "pycharm": {
     "name": "#%%\n"
    }
   }
  }
 ],
 "metadata": {
  "kernelspec": {
   "display_name": "Python 3",
   "language": "python",
   "name": "python3"
  },
  "language_info": {
   "codemirror_mode": {
    "name": "ipython",
    "version": 2
   },
   "file_extension": ".py",
   "mimetype": "text/x-python",
   "name": "python",
   "nbconvert_exporter": "python",
   "pygments_lexer": "ipython2",
   "version": "2.7.6"
  }
 },
 "nbformat": 4,
 "nbformat_minor": 0
}