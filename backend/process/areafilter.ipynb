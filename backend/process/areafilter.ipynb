{
 "cells": [
  {
   "cell_type": "markdown",
   "source": [
    "### 相关库导入和数据读取"
   ],
   "metadata": {
    "collapsed": false
   }
  },
  {
   "cell_type": "code",
   "execution_count": 1,
   "metadata": {
    "collapsed": true
   },
   "outputs": [],
   "source": [
    "import pandas as pd\n",
    "import numpy as np\n",
    "import random\n",
    "import string\n",
    "data = pd.read_csv('../data/deal/total_fordraw.csv',index_col=0)\n",
    "# areaname = '玲珑府'\n",
    "# areaname = '万和国际'\n",
    "# areaname = '万泰城章'\n",
    "# areaname = '潘水南苑'\n",
    "areaname = '玉都枫景'"
   ]
  },
  {
   "cell_type": "markdown",
   "source": [
    "### 输出小区基本信息"
   ],
   "metadata": {
    "collapsed": false
   }
  },
  {
   "cell_type": "code",
   "execution_count": 5,
   "outputs": [
    {
     "name": "stdout",
     "output_type": "stream",
     "text": [
      "平均成交价格：324万\n",
      "平均房价：32445元\n",
      "平均关注度：16\n",
      "所在城市：余杭\n",
      "所在街道：良渚\n",
      "累计成交数：11套\n"
     ]
    }
   ],
   "source": [
    "select = data[data['小区名称']==areaname]\n",
    "averagetotalprice = int(select['总价'].mean())\n",
    "averageprice =  int(select['单价'].mean())\n",
    "averageattention = int(select['关注度'].mean())\n",
    "city = select['城市'].iloc[0]\n",
    "address = select['街道'].iloc[0]\n",
    "count = len(select)\n",
    "print('平均成交价格：{}万\\n平均房价：{}元\\n平均关注度：{}\\n所在城市：{}\\n所在街道：{}\\n累计成交数：{}套'.format(averagetotalprice,averageprice,averageattention,city,address,count))"
   ],
   "metadata": {
    "collapsed": false,
    "pycharm": {
     "name": "#%%\n"
    }
   }
  },
  {
   "cell_type": "markdown",
   "source": [
    "### 输出面积分布信息"
   ],
   "metadata": {
    "collapsed": false
   }
  },
  {
   "cell_type": "code",
   "execution_count": 6,
   "outputs": [
    {
     "name": "stderr",
     "output_type": "stream",
     "text": [
      "C:\\Users\\Shirin\\AppData\\Local\\Temp\\ipykernel_15644\\823179393.py:4: SettingWithCopyWarning: \n",
      "A value is trying to be set on a copy of a slice from a DataFrame.\n",
      "Try using .loc[row_indexer,col_indexer] = value instead\n",
      "\n",
      "See the caveats in the documentation: https://pandas.pydata.org/pandas-docs/stable/user_guide/indexing.html#returning-a-view-versus-a-copy\n",
      "  select['面积区间'] = pd.cut(select['建筑面积'],bins)\n"
     ]
    }
   ],
   "source": [
    "max = int(select['建筑面积'].max())+1\n",
    "min = int(select['建筑面积'].min())\n",
    "bins = np.linspace(min,max,6)\n",
    "select['面积区间'] = pd.cut(select['建筑面积'],bins)\n",
    "count = pd.DataFrame(select['面积区间'].value_counts().sort_index())['count'].tolist()\n",
    "label = []\n",
    "for i in range(0,5):\n",
    "    label.append(str(bins.tolist()[i])+'-'+str(bins.tolist()[i+1]))"
   ],
   "metadata": {
    "collapsed": false,
    "pycharm": {
     "name": "#%%\n"
    }
   }
  },
  {
   "cell_type": "markdown",
   "source": [
    "### 输出装修信息"
   ],
   "metadata": {
    "collapsed": false
   }
  },
  {
   "cell_type": "code",
   "execution_count": 7,
   "outputs": [],
   "source": [
    "count = select['装修情况'].value_counts().values.tolist()\n",
    "label = ['精装','简装','毛坯']"
   ],
   "metadata": {
    "collapsed": false,
    "pycharm": {
     "name": "#%%\n"
    }
   }
  },
  {
   "cell_type": "markdown",
   "source": [
    "### 输出楼层信息"
   ],
   "metadata": {
    "collapsed": false
   }
  },
  {
   "cell_type": "code",
   "execution_count": 8,
   "outputs": [],
   "source": [
    "count = select['所在楼层'].value_counts().tolist()\n",
    "label = ['低','中','高']"
   ],
   "metadata": {
    "collapsed": false,
    "pycharm": {
     "name": "#%%\n"
    }
   }
  },
  {
   "cell_type": "markdown",
   "source": [
    "### 输出小区房屋单价分布情况"
   ],
   "metadata": {
    "collapsed": false
   }
  },
  {
   "cell_type": "code",
   "execution_count": 9,
   "outputs": [
    {
     "name": "stderr",
     "output_type": "stream",
     "text": [
      "C:\\Users\\Shirin\\AppData\\Local\\Temp\\ipykernel_15644\\604808498.py:4: SettingWithCopyWarning: \n",
      "A value is trying to be set on a copy of a slice from a DataFrame.\n",
      "Try using .loc[row_indexer,col_indexer] = value instead\n",
      "\n",
      "See the caveats in the documentation: https://pandas.pydata.org/pandas-docs/stable/user_guide/indexing.html#returning-a-view-versus-a-copy\n",
      "  select['单价区间'] = pd.cut(select['单价'],bins)\n"
     ]
    },
    {
     "data": {
      "text/plain": "['28178.0-30439.4元/m²',\n '30439.4-32700.8元/m²',\n '32700.8-34962.2元/m²',\n '34962.2-37223.6元/m²',\n '37223.6-39485.0元/m²']"
     },
     "execution_count": 9,
     "metadata": {},
     "output_type": "execute_result"
    }
   ],
   "source": [
    "max = select['单价'].max()+1\n",
    "min = select['单价'].min()-1\n",
    "bins = np.linspace(min,max,6)\n",
    "select['单价区间'] = pd.cut(select['单价'],bins)\n",
    "count = pd.DataFrame(select['单价区间'].value_counts().sort_index())['count'].tolist()\n",
    "label = []\n",
    "for i in range(0,5):\n",
    "    label.append(str(bins.tolist()[i])+'-'+str(bins.tolist()[i+1])+'元/m²')\n",
    "label"
   ],
   "metadata": {
    "collapsed": false,
    "pycharm": {
     "name": "#%%\n"
    }
   }
  },
  {
   "cell_type": "markdown",
   "source": [
    "### 输出小区房屋历史数据"
   ],
   "metadata": {
    "collapsed": false
   }
  },
  {
   "cell_type": "code",
   "execution_count": 10,
   "outputs": [
    {
     "name": "stderr",
     "output_type": "stream",
     "text": [
      "C:\\Users\\Shirin\\AppData\\Local\\Temp\\ipykernel_15644\\2126456428.py:2: SettingWithCopyWarning: \n",
      "A value is trying to be set on a copy of a slice from a DataFrame.\n",
      "Try using .loc[row_indexer,col_indexer] = value instead\n",
      "\n",
      "See the caveats in the documentation: https://pandas.pydata.org/pandas-docs/stable/user_guide/indexing.html#returning-a-view-versus-a-copy\n",
      "  select['单价'] = select['单价'].astype(float)\n",
      "C:\\Users\\Shirin\\AppData\\Local\\Temp\\ipykernel_15644\\2126456428.py:3: SettingWithCopyWarning: \n",
      "A value is trying to be set on a copy of a slice from a DataFrame.\n",
      "Try using .loc[row_indexer,col_indexer] = value instead\n",
      "\n",
      "See the caveats in the documentation: https://pandas.pydata.org/pandas-docs/stable/user_guide/indexing.html#returning-a-view-versus-a-copy\n",
      "  select['关注度'] = select['关注度'].astype(float)\n"
     ]
    },
    {
     "data": {
      "text/plain": "[{'column1': '玉都枫景',\n  'column2': 350.0,\n  'column3': 29472.0,\n  'column4': 7.0,\n  'column5': '低',\n  'column6': 118.76,\n  'column7': '平层',\n  'column8': '板塔结合',\n  'column9': '南 北',\n  'column10': '钢混结构',\n  'column11': '简装',\n  'column12': '有',\n  'column13': '商品房',\n  'column14': '普通住宅',\n  'column15': '满五年',\n  'column16': '共有',\n  'column17': '有',\n  'column18': '余杭',\n  'column19': '良渚'},\n {'column1': '玉都枫景',\n  'column2': 400.0,\n  'column3': 28716.0,\n  'column4': 2.0,\n  'column5': '低',\n  'column6': 139.3,\n  'column7': '平层',\n  'column8': '板楼',\n  'column9': '南',\n  'column10': '钢混结构',\n  'column11': '简装',\n  'column12': '有',\n  'column13': '商品房',\n  'column14': '普通住宅',\n  'column15': '满五年',\n  'column16': '共有',\n  'column17': '有',\n  'column18': '余杭',\n  'column19': '良渚'},\n {'column1': '玉都枫景',\n  'column2': 246.0,\n  'column3': 28179.0,\n  'column4': 37.0,\n  'column5': '低',\n  'column6': 87.3,\n  'column7': '平层',\n  'column8': '板塔结合',\n  'column9': '南 北',\n  'column10': '钢混结构',\n  'column11': '简装',\n  'column12': '有',\n  'column13': '商品房',\n  'column14': '普通住宅',\n  'column15': '满两年',\n  'column16': '共有',\n  'column17': '有',\n  'column18': '余杭',\n  'column19': '良渚'},\n {'column1': '玉都枫景',\n  'column2': 246.0,\n  'column3': 28179.0,\n  'column4': 37.0,\n  'column5': '低',\n  'column6': 87.3,\n  'column7': '平层',\n  'column8': '板塔结合',\n  'column9': '南 北',\n  'column10': '钢混结构',\n  'column11': '简装',\n  'column12': '有',\n  'column13': '商品房',\n  'column14': '普通住宅',\n  'column15': '满两年',\n  'column16': '共有',\n  'column17': '有',\n  'column18': '余杭',\n  'column19': '良渚'},\n {'column1': '玉都枫景',\n  'column2': 300.0,\n  'column3': 34263.0,\n  'column4': 41.0,\n  'column5': '中',\n  'column6': 87.56,\n  'column7': '平层',\n  'column8': '板塔结合',\n  'column9': '南',\n  'column10': '钢混结构',\n  'column11': '精装',\n  'column12': '有',\n  'column13': '商品房',\n  'column14': '普通住宅',\n  'column15': '满五年',\n  'column16': '共有',\n  'column17': '有',\n  'column18': '余杭',\n  'column19': '良渚'},\n {'column1': '玉都枫景',\n  'column2': 300.0,\n  'column3': 34365.0,\n  'column4': 5.0,\n  'column5': '中',\n  'column6': 87.3,\n  'column7': '平层',\n  'column8': '板楼',\n  'column9': '南',\n  'column10': '钢混结构',\n  'column11': '精装',\n  'column12': '有',\n  'column13': '商品房',\n  'column14': '普通住宅',\n  'column15': '满两年',\n  'column16': '共有',\n  'column17': '有',\n  'column18': '余杭',\n  'column19': '良渚'},\n {'column1': '玉都枫景',\n  'column2': 300.0,\n  'column3': 34365.0,\n  'column4': 5.0,\n  'column5': '中',\n  'column6': 87.3,\n  'column7': '平层',\n  'column8': '板楼',\n  'column9': '南',\n  'column10': '钢混结构',\n  'column11': '精装',\n  'column12': '有',\n  'column13': '商品房',\n  'column14': '普通住宅',\n  'column15': '满两年',\n  'column16': '共有',\n  'column17': '有',\n  'column18': '余杭',\n  'column19': '良渚'},\n {'column1': '玉都枫景',\n  'column2': 300.0,\n  'column3': 34263.0,\n  'column4': 41.0,\n  'column5': '中',\n  'column6': 87.56,\n  'column7': '平层',\n  'column8': '板塔结合',\n  'column9': '南',\n  'column10': '钢混结构',\n  'column11': '精装',\n  'column12': '有',\n  'column13': '商品房',\n  'column14': '普通住宅',\n  'column15': '满五年',\n  'column16': '共有',\n  'column17': '有',\n  'column18': '余杭',\n  'column19': '良渚'},\n {'column1': '玉都枫景',\n  'column2': 550.0,\n  'column3': 39484.0,\n  'column4': 3.0,\n  'column5': '中',\n  'column6': 139.3,\n  'column7': '平层',\n  'column8': '板楼',\n  'column9': '南',\n  'column10': '钢混结构',\n  'column11': '精装',\n  'column12': '有',\n  'column13': '商品房',\n  'column14': '普通住宅',\n  'column15': '满五年',\n  'column16': '非共有',\n  'column17': '无',\n  'column18': '余杭',\n  'column19': '良渚'},\n {'column1': '玉都枫景',\n  'column2': 310.0,\n  'column3': 35600.0,\n  'column4': 2.0,\n  'column5': '低',\n  'column6': 87.08,\n  'column7': '平层',\n  'column8': '板塔结合',\n  'column9': '南 北',\n  'column10': '钢混结构',\n  'column11': '精装',\n  'column12': '有',\n  'column13': '商品房',\n  'column14': '普通住宅',\n  'column15': '满五年',\n  'column16': '共有',\n  'column17': '有',\n  'column18': '余杭',\n  'column19': '良渚'}]"
     },
     "execution_count": 10,
     "metadata": {},
     "output_type": "execute_result"
    }
   ],
   "source": [
    "select = data[data['小区名称']==areaname]\n",
    "select['单价'] = select['单价'].astype(float)\n",
    "select['关注度'] = select['关注度'].astype(float)\n",
    "length = len(select)\n",
    "record = []\n",
    "name = ['column1','column2','column3','column4','column5','column6','column7','column8','column9','column10','column11','column12','column13','column14','column15','column16','column17','column18','column19']\n",
    "for i in range(1,length):\n",
    "    dict = {}\n",
    "    row = select.iloc[i].tolist()\n",
    "    for i in range(len(row)):\n",
    "        dict[name[i]]=row[i]\n",
    "    record.append(dict)\n",
    "record"
   ],
   "metadata": {
    "collapsed": false,
    "pycharm": {
     "name": "#%%\n"
    }
   }
  }
 ],
 "metadata": {
  "kernelspec": {
   "display_name": "Python 3",
   "language": "python",
   "name": "python3"
  },
  "language_info": {
   "codemirror_mode": {
    "name": "ipython",
    "version": 2
   },
   "file_extension": ".py",
   "mimetype": "text/x-python",
   "name": "python",
   "nbconvert_exporter": "python",
   "pygments_lexer": "ipython2",
   "version": "2.7.6"
  }
 },
 "nbformat": 4,
 "nbformat_minor": 0
}