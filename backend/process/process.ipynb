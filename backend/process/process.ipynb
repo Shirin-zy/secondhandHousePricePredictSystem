{
 "cells": [
  {
   "cell_type": "markdown",
   "source": [
    "\n",
    "<h3>导入相关库<h3/>"
   ],
   "metadata": {
    "collapsed": false
   }
  },
  {
   "cell_type": "code",
   "execution_count": 1,
   "metadata": {
    "collapsed": true
   },
   "outputs": [
    {
     "name": "stderr",
     "output_type": "stream",
     "text": [
      "D:\\Tool\\Anaconda\\Lib\\site-packages\\dask\\dataframe\\_pyarrow_compat.py:23: UserWarning: You are using pyarrow version 11.0.0 which is known to be insecure. See https://www.cve.org/CVERecord?id=CVE-2023-47248 for further details. Please upgrade to pyarrow>=14.0.1 or install pyarrow-hotfix to patch your current version.\n",
      "  warnings.warn(\n"
     ]
    }
   ],
   "source": [
    "import pandas as pd\n",
    "import numpy as np\n",
    "import re\n",
    "from sklearn.model_selection import train_test_split\n",
    "import xgboost as xgb\n",
    "import lightgbm as lgb"
   ]
  },
  {
   "cell_type": "markdown",
   "source": [
    "<h3>所用到的相关变量以及参数<h3/>"
   ],
   "metadata": {
    "collapsed": false
   }
  },
  {
   "cell_type": "code",
   "execution_count": 2,
   "outputs": [],
   "source": [
    "city = ['fuyang','gongshu','linan','linpingqu','qiantangqu','shangcheng','xiaoshan','xihu','yuhang']\n",
    "filterColumn = ['小区名称','区域位置','总价','单价','关注度','所在楼层','建筑面积','户型结构','建筑类型','房屋朝向','建筑结构','装修情况','配备电梯','交易权属','房屋用途','房屋年限','产权所属','抵押信息']"
   ],
   "metadata": {
    "collapsed": false,
    "pycharm": {
     "name": "#%%\n"
    }
   }
  },
  {
   "cell_type": "markdown",
   "source": [
    "<h3>将多个csv进行连接(处理用作绘制相关图标以及查询小区基本信息)<h3/>"
   ],
   "metadata": {
    "collapsed": false
   }
  },
  {
   "cell_type": "code",
   "execution_count": 3,
   "outputs": [
    {
     "data": {
      "text/plain": "               小区名称      区域位置          经度         纬度     总价     单价      看房时间  \\\n0       ['欣盛东方郡西区']  滨江-滨江区政府  120.218825  30.203884  930.0  69053  提前预约随时可看   \n1        ['铂金时代公寓']  滨江-滨江区政府  120.223773  30.201048  765.0  55423     下班后可看   \n2           ['星耀城']  滨江-滨江区政府  120.221367  30.219193  225.0  34611  提前预约随时可看   \n3         ['中赢康康谷']  滨江-滨江区政府  120.220640  30.202140  148.0  31835  提前预约随时可看   \n4           ['玲珑府']     滨江-西兴  120.232076  30.189648  130.0  26461  提前预约随时可看   \n...             ...       ...         ...        ...    ...    ...       ...   \n29022  ['良渚文化村七贤郡']     余杭-良渚  120.007622  30.353357  280.0  31743  提前预约随时可看   \n29023    ['西城时代家园']  余杭-未来科技城  119.958771  30.271248  325.0  35342  提前预约随时可看   \n29024     ['众安学君里']  余杭-未来科技城  119.969694  30.252949  295.0  32859  提前预约随时可看   \n29025    ['北秀蓝湾花苑']     余杭-良渚  120.054093  30.373145  320.0  25211  提前预约随时可看   \n29026    ['亲亲家园二期']     余杭-三墩  120.094522  30.343284  405.0  34548    有租户需预约   \n\n               链家编号  关注度      房屋户型  ... 用水类型 用电类型     燃气价格  \\\n0      103117810968    4  3室2厅1厨2卫  ...  NaN  NaN      NaN   \n1      103117801479    7  3室2厅1厨2卫  ...  NaN  NaN      NaN   \n2      103108527621  104  3室1厅1厨2卫  ...   商水   商电  3.1元/m3   \n3      103117403346   18  2室2厅1厨2卫  ...   民水   民电  3.1元/m3   \n4      103117598758   11  2室1厅1厨2卫  ...   商水   民电  3.1元/m3   \n...             ...  ...       ...  ...  ...  ...      ...   \n29022  103116072249    1  3室2厅1厨1卫  ...  NaN  NaN      NaN   \n29023  103114913580   13  3室2厅1厨1卫  ...  NaN  NaN      NaN   \n29024  103112976063   22  3室2厅1厨1卫  ...  NaN  NaN      NaN   \n29025  103113428700   10  3室2厅1厨2卫  ...  NaN  NaN      NaN   \n29026  103113100103   38  3室2厅1厨2卫  ...  NaN  NaN      NaN   \n\n                                                    户型介绍  \\\n0                                                    NaN   \n1                                                    NaN   \n2      \\n                    本房地理位置优越，高品质，开发商精装，适合年轻上...   \n3                                                    NaN   \n4                                                    NaN   \n...                                                  ...   \n29022                                                NaN   \n29023                                                NaN   \n29024                                                NaN   \n29025  \\n                    2号线良渚站 杜甫站均1.2公里左右 ，直线距离...   \n29026  \\n                    西面古墩路，南面金家渡路，北面临河，东面朱家路（...   \n\n                                                    适宜人群  \\\n0                                                    NaN   \n1                                                    NaN   \n2      \\n                    地铁1号线和6号线江陵站，比邻江南大道，过三桥、...   \n3                                                    NaN   \n4                                                    NaN   \n...                                                  ...   \n29022                                                NaN   \n29023                                                NaN   \n29024                                                NaN   \n29025                                                NaN   \n29026                                                NaN   \n\n                                                    装修描述  \\\n0                                                    NaN   \n1                                                    NaN   \n2                                                    NaN   \n3      \\n                    \\n小区附 近500米为滨和路地铁口，出行便利，...   \n4                                                    NaN   \n...                                                  ...   \n29022                                                NaN   \n29023                                                NaN   \n29024  \\n                    \\n小区位于天目山西路与东西大道交界处，沿东西大...   \n29025                                                NaN   \n29026                                                NaN   \n\n                                                    售房详情 交通出行 别墅类型 权属抵押  \n0                                                    NaN  NaN  NaN  NaN  \n1                                                    NaN  NaN  NaN  NaN  \n2                                                    NaN  NaN  NaN  NaN  \n3                                                    NaN  NaN  NaN  NaN  \n4                                                    NaN  NaN  NaN  NaN  \n...                                                  ...  ...  ...  ...  \n29022                                                NaN  NaN  NaN  NaN  \n29023  \\n                    小区1公里内有幼儿园 学 初中  万达广场  江...  NaN  NaN  NaN  \n29024                                                NaN  NaN  NaN  NaN  \n29025                                                NaN  NaN  NaN  NaN  \n29026                                                NaN  NaN  NaN  NaN  \n\n[29027 rows x 44 columns]",
      "text/html": "<div>\n<style scoped>\n    .dataframe tbody tr th:only-of-type {\n        vertical-align: middle;\n    }\n\n    .dataframe tbody tr th {\n        vertical-align: top;\n    }\n\n    .dataframe thead th {\n        text-align: right;\n    }\n</style>\n<table border=\"1\" class=\"dataframe\">\n  <thead>\n    <tr style=\"text-align: right;\">\n      <th></th>\n      <th>小区名称</th>\n      <th>区域位置</th>\n      <th>经度</th>\n      <th>纬度</th>\n      <th>总价</th>\n      <th>单价</th>\n      <th>看房时间</th>\n      <th>链家编号</th>\n      <th>关注度</th>\n      <th>房屋户型</th>\n      <th>...</th>\n      <th>用水类型</th>\n      <th>用电类型</th>\n      <th>燃气价格</th>\n      <th>户型介绍</th>\n      <th>适宜人群</th>\n      <th>装修描述</th>\n      <th>售房详情</th>\n      <th>交通出行</th>\n      <th>别墅类型</th>\n      <th>权属抵押</th>\n    </tr>\n  </thead>\n  <tbody>\n    <tr>\n      <th>0</th>\n      <td>['欣盛东方郡西区']</td>\n      <td>滨江-滨江区政府</td>\n      <td>120.218825</td>\n      <td>30.203884</td>\n      <td>930.0</td>\n      <td>69053</td>\n      <td>提前预约随时可看</td>\n      <td>103117810968</td>\n      <td>4</td>\n      <td>3室2厅1厨2卫</td>\n      <td>...</td>\n      <td>NaN</td>\n      <td>NaN</td>\n      <td>NaN</td>\n      <td>NaN</td>\n      <td>NaN</td>\n      <td>NaN</td>\n      <td>NaN</td>\n      <td>NaN</td>\n      <td>NaN</td>\n      <td>NaN</td>\n    </tr>\n    <tr>\n      <th>1</th>\n      <td>['铂金时代公寓']</td>\n      <td>滨江-滨江区政府</td>\n      <td>120.223773</td>\n      <td>30.201048</td>\n      <td>765.0</td>\n      <td>55423</td>\n      <td>下班后可看</td>\n      <td>103117801479</td>\n      <td>7</td>\n      <td>3室2厅1厨2卫</td>\n      <td>...</td>\n      <td>NaN</td>\n      <td>NaN</td>\n      <td>NaN</td>\n      <td>NaN</td>\n      <td>NaN</td>\n      <td>NaN</td>\n      <td>NaN</td>\n      <td>NaN</td>\n      <td>NaN</td>\n      <td>NaN</td>\n    </tr>\n    <tr>\n      <th>2</th>\n      <td>['星耀城']</td>\n      <td>滨江-滨江区政府</td>\n      <td>120.221367</td>\n      <td>30.219193</td>\n      <td>225.0</td>\n      <td>34611</td>\n      <td>提前预约随时可看</td>\n      <td>103108527621</td>\n      <td>104</td>\n      <td>3室1厅1厨2卫</td>\n      <td>...</td>\n      <td>商水</td>\n      <td>商电</td>\n      <td>3.1元/m3</td>\n      <td>\\n                    本房地理位置优越，高品质，开发商精装，适合年轻上...</td>\n      <td>\\n                    地铁1号线和6号线江陵站，比邻江南大道，过三桥、...</td>\n      <td>NaN</td>\n      <td>NaN</td>\n      <td>NaN</td>\n      <td>NaN</td>\n      <td>NaN</td>\n    </tr>\n    <tr>\n      <th>3</th>\n      <td>['中赢康康谷']</td>\n      <td>滨江-滨江区政府</td>\n      <td>120.220640</td>\n      <td>30.202140</td>\n      <td>148.0</td>\n      <td>31835</td>\n      <td>提前预约随时可看</td>\n      <td>103117403346</td>\n      <td>18</td>\n      <td>2室2厅1厨2卫</td>\n      <td>...</td>\n      <td>民水</td>\n      <td>民电</td>\n      <td>3.1元/m3</td>\n      <td>NaN</td>\n      <td>NaN</td>\n      <td>\\n                    \\n小区附 近500米为滨和路地铁口，出行便利，...</td>\n      <td>NaN</td>\n      <td>NaN</td>\n      <td>NaN</td>\n      <td>NaN</td>\n    </tr>\n    <tr>\n      <th>4</th>\n      <td>['玲珑府']</td>\n      <td>滨江-西兴</td>\n      <td>120.232076</td>\n      <td>30.189648</td>\n      <td>130.0</td>\n      <td>26461</td>\n      <td>提前预约随时可看</td>\n      <td>103117598758</td>\n      <td>11</td>\n      <td>2室1厅1厨2卫</td>\n      <td>...</td>\n      <td>商水</td>\n      <td>民电</td>\n      <td>3.1元/m3</td>\n      <td>NaN</td>\n      <td>NaN</td>\n      <td>NaN</td>\n      <td>NaN</td>\n      <td>NaN</td>\n      <td>NaN</td>\n      <td>NaN</td>\n    </tr>\n    <tr>\n      <th>...</th>\n      <td>...</td>\n      <td>...</td>\n      <td>...</td>\n      <td>...</td>\n      <td>...</td>\n      <td>...</td>\n      <td>...</td>\n      <td>...</td>\n      <td>...</td>\n      <td>...</td>\n      <td>...</td>\n      <td>...</td>\n      <td>...</td>\n      <td>...</td>\n      <td>...</td>\n      <td>...</td>\n      <td>...</td>\n      <td>...</td>\n      <td>...</td>\n      <td>...</td>\n      <td>...</td>\n    </tr>\n    <tr>\n      <th>29022</th>\n      <td>['良渚文化村七贤郡']</td>\n      <td>余杭-良渚</td>\n      <td>120.007622</td>\n      <td>30.353357</td>\n      <td>280.0</td>\n      <td>31743</td>\n      <td>提前预约随时可看</td>\n      <td>103116072249</td>\n      <td>1</td>\n      <td>3室2厅1厨1卫</td>\n      <td>...</td>\n      <td>NaN</td>\n      <td>NaN</td>\n      <td>NaN</td>\n      <td>NaN</td>\n      <td>NaN</td>\n      <td>NaN</td>\n      <td>NaN</td>\n      <td>NaN</td>\n      <td>NaN</td>\n      <td>NaN</td>\n    </tr>\n    <tr>\n      <th>29023</th>\n      <td>['西城时代家园']</td>\n      <td>余杭-未来科技城</td>\n      <td>119.958771</td>\n      <td>30.271248</td>\n      <td>325.0</td>\n      <td>35342</td>\n      <td>提前预约随时可看</td>\n      <td>103114913580</td>\n      <td>13</td>\n      <td>3室2厅1厨1卫</td>\n      <td>...</td>\n      <td>NaN</td>\n      <td>NaN</td>\n      <td>NaN</td>\n      <td>NaN</td>\n      <td>NaN</td>\n      <td>NaN</td>\n      <td>\\n                    小区1公里内有幼儿园 学 初中  万达广场  江...</td>\n      <td>NaN</td>\n      <td>NaN</td>\n      <td>NaN</td>\n    </tr>\n    <tr>\n      <th>29024</th>\n      <td>['众安学君里']</td>\n      <td>余杭-未来科技城</td>\n      <td>119.969694</td>\n      <td>30.252949</td>\n      <td>295.0</td>\n      <td>32859</td>\n      <td>提前预约随时可看</td>\n      <td>103112976063</td>\n      <td>22</td>\n      <td>3室2厅1厨1卫</td>\n      <td>...</td>\n      <td>NaN</td>\n      <td>NaN</td>\n      <td>NaN</td>\n      <td>NaN</td>\n      <td>NaN</td>\n      <td>\\n                    \\n小区位于天目山西路与东西大道交界处，沿东西大...</td>\n      <td>NaN</td>\n      <td>NaN</td>\n      <td>NaN</td>\n      <td>NaN</td>\n    </tr>\n    <tr>\n      <th>29025</th>\n      <td>['北秀蓝湾花苑']</td>\n      <td>余杭-良渚</td>\n      <td>120.054093</td>\n      <td>30.373145</td>\n      <td>320.0</td>\n      <td>25211</td>\n      <td>提前预约随时可看</td>\n      <td>103113428700</td>\n      <td>10</td>\n      <td>3室2厅1厨2卫</td>\n      <td>...</td>\n      <td>NaN</td>\n      <td>NaN</td>\n      <td>NaN</td>\n      <td>\\n                    2号线良渚站 杜甫站均1.2公里左右 ，直线距离...</td>\n      <td>NaN</td>\n      <td>NaN</td>\n      <td>NaN</td>\n      <td>NaN</td>\n      <td>NaN</td>\n      <td>NaN</td>\n    </tr>\n    <tr>\n      <th>29026</th>\n      <td>['亲亲家园二期']</td>\n      <td>余杭-三墩</td>\n      <td>120.094522</td>\n      <td>30.343284</td>\n      <td>405.0</td>\n      <td>34548</td>\n      <td>有租户需预约</td>\n      <td>103113100103</td>\n      <td>38</td>\n      <td>3室2厅1厨2卫</td>\n      <td>...</td>\n      <td>NaN</td>\n      <td>NaN</td>\n      <td>NaN</td>\n      <td>\\n                    西面古墩路，南面金家渡路，北面临河，东面朱家路（...</td>\n      <td>NaN</td>\n      <td>NaN</td>\n      <td>NaN</td>\n      <td>NaN</td>\n      <td>NaN</td>\n      <td>NaN</td>\n    </tr>\n  </tbody>\n</table>\n<p>29027 rows × 44 columns</p>\n</div>"
     },
     "execution_count": 3,
     "metadata": {},
     "output_type": "execute_result"
    }
   ],
   "source": [
    "result = pd.read_csv('../data/binjiang杭州二手房.csv',encoding='GB18030',index_col=0)\n",
    "for i in city:\n",
    "    data = pd.read_csv('../data/{}杭州二手房.csv'.format(i),encoding='GB18030',index_col=0)\n",
    "    result = pd.concat([result,data],ignore_index=True)\n",
    "result"
   ],
   "metadata": {
    "collapsed": false,
    "pycharm": {
     "name": "#%%\n"
    }
   }
  },
  {
   "cell_type": "markdown",
   "source": [
    "<h3>筛选字段<h3/>"
   ],
   "metadata": {
    "collapsed": false
   }
  },
  {
   "cell_type": "code",
   "execution_count": 4,
   "outputs": [
    {
     "data": {
      "text/plain": "               小区名称      区域位置     总价     单价  关注度        所在楼层     建筑面积  户型结构  \\\n0       ['欣盛东方郡西区']  滨江-滨江区政府  930.0  69053    4  中楼层 (共18层)  134.68㎡    平层   \n1        ['铂金时代公寓']  滨江-滨江区政府  765.0  55423    7  低楼层 (共30层)  138.03㎡    平层   \n2           ['星耀城']  滨江-滨江区政府  225.0  34611  104  低楼层 (共20层)   65.01㎡  暂无数据   \n3         ['中赢康康谷']  滨江-滨江区政府  148.0  31835   18  低楼层 (共18层)   46.49㎡  暂无数据   \n4           ['玲珑府']     滨江-西兴  130.0  26461   11  中楼层 (共21层)   49.13㎡  暂无数据   \n...             ...       ...    ...    ...  ...         ...      ...   ...   \n29022  ['良渚文化村七贤郡']     余杭-良渚  280.0  31743    1   高楼层 (共9层)   88.21㎡    平层   \n29023    ['西城时代家园']  余杭-未来科技城  325.0  35342   13  中楼层 (共11层)   91.96㎡    平层   \n29024     ['众安学君里']  余杭-未来科技城  295.0  32859   22  高楼层 (共24层)   89.78㎡    平层   \n29025    ['北秀蓝湾花苑']     余杭-良渚  320.0  25211   10  中楼层 (共11层)  126.93㎡    平层   \n29026    ['亲亲家园二期']     余杭-三墩  405.0  34548   38   中楼层 (共6层)  117.23㎡    平层   \n\n       建筑类型 房屋朝向  建筑结构 装修情况 配备电梯 交易权属  房屋用途 房屋年限 产权所属  \\\n0      板塔结合  南 北  钢混结构   精装    有  商品房  普通住宅  满五年   共有   \n1      板塔结合  南 北  砖混结构   精装    有  商品房  普通住宅  满五年   共有   \n2      板塔结合   西南  钢混结构   精装    有  商品房  商住两用  满五年   共有   \n3        板楼    南  钢混结构   精装    有  商品房  商住两用  满两年   共有   \n4      板塔结合    南  钢混结构   精装    有  商品房  商住两用  满两年  非共有   \n...     ...  ...   ...  ...  ...  ...   ...  ...  ...   \n29022    板楼  南 北  钢混结构   精装    有  商品房  普通住宅  满五年  非共有   \n29023    板楼    南  钢混结构   简装    有  商品房  普通住宅  满两年  非共有   \n29024  板塔结合  南 北  钢混结构   简装    有  商品房  普通住宅  满两年   共有   \n29025    板楼  南 北  钢混结构   精装    有  商品房  普通住宅  满五年   共有   \n29026    板楼    南  钢混结构   精装    无  商品房  普通住宅  满五年  非共有   \n\n                                                    抵押信息  \n0      \\n                                无抵押\\n       ...  \n1      \\n                                有抵押 业主自还\\n  ...  \n2      \\n                                无抵押\\n       ...  \n3      \\n                                无抵押\\n       ...  \n4      \\n                                有抵押 34万元 招商银...  \n...                                                  ...  \n29022  \\n                                有抵押 40万元 汇丰银...  \n29023  \\n                                有抵押\\n       ...  \n29024  \\n                                有抵押 80万元 业主自...  \n29025  \\n                                无抵押\\n       ...  \n29026  \\n                                无抵押\\n       ...  \n\n[29027 rows x 18 columns]",
      "text/html": "<div>\n<style scoped>\n    .dataframe tbody tr th:only-of-type {\n        vertical-align: middle;\n    }\n\n    .dataframe tbody tr th {\n        vertical-align: top;\n    }\n\n    .dataframe thead th {\n        text-align: right;\n    }\n</style>\n<table border=\"1\" class=\"dataframe\">\n  <thead>\n    <tr style=\"text-align: right;\">\n      <th></th>\n      <th>小区名称</th>\n      <th>区域位置</th>\n      <th>总价</th>\n      <th>单价</th>\n      <th>关注度</th>\n      <th>所在楼层</th>\n      <th>建筑面积</th>\n      <th>户型结构</th>\n      <th>建筑类型</th>\n      <th>房屋朝向</th>\n      <th>建筑结构</th>\n      <th>装修情况</th>\n      <th>配备电梯</th>\n      <th>交易权属</th>\n      <th>房屋用途</th>\n      <th>房屋年限</th>\n      <th>产权所属</th>\n      <th>抵押信息</th>\n    </tr>\n  </thead>\n  <tbody>\n    <tr>\n      <th>0</th>\n      <td>['欣盛东方郡西区']</td>\n      <td>滨江-滨江区政府</td>\n      <td>930.0</td>\n      <td>69053</td>\n      <td>4</td>\n      <td>中楼层 (共18层)</td>\n      <td>134.68㎡</td>\n      <td>平层</td>\n      <td>板塔结合</td>\n      <td>南 北</td>\n      <td>钢混结构</td>\n      <td>精装</td>\n      <td>有</td>\n      <td>商品房</td>\n      <td>普通住宅</td>\n      <td>满五年</td>\n      <td>共有</td>\n      <td>\\n                                无抵押\\n       ...</td>\n    </tr>\n    <tr>\n      <th>1</th>\n      <td>['铂金时代公寓']</td>\n      <td>滨江-滨江区政府</td>\n      <td>765.0</td>\n      <td>55423</td>\n      <td>7</td>\n      <td>低楼层 (共30层)</td>\n      <td>138.03㎡</td>\n      <td>平层</td>\n      <td>板塔结合</td>\n      <td>南 北</td>\n      <td>砖混结构</td>\n      <td>精装</td>\n      <td>有</td>\n      <td>商品房</td>\n      <td>普通住宅</td>\n      <td>满五年</td>\n      <td>共有</td>\n      <td>\\n                                有抵押 业主自还\\n  ...</td>\n    </tr>\n    <tr>\n      <th>2</th>\n      <td>['星耀城']</td>\n      <td>滨江-滨江区政府</td>\n      <td>225.0</td>\n      <td>34611</td>\n      <td>104</td>\n      <td>低楼层 (共20层)</td>\n      <td>65.01㎡</td>\n      <td>暂无数据</td>\n      <td>板塔结合</td>\n      <td>西南</td>\n      <td>钢混结构</td>\n      <td>精装</td>\n      <td>有</td>\n      <td>商品房</td>\n      <td>商住两用</td>\n      <td>满五年</td>\n      <td>共有</td>\n      <td>\\n                                无抵押\\n       ...</td>\n    </tr>\n    <tr>\n      <th>3</th>\n      <td>['中赢康康谷']</td>\n      <td>滨江-滨江区政府</td>\n      <td>148.0</td>\n      <td>31835</td>\n      <td>18</td>\n      <td>低楼层 (共18层)</td>\n      <td>46.49㎡</td>\n      <td>暂无数据</td>\n      <td>板楼</td>\n      <td>南</td>\n      <td>钢混结构</td>\n      <td>精装</td>\n      <td>有</td>\n      <td>商品房</td>\n      <td>商住两用</td>\n      <td>满两年</td>\n      <td>共有</td>\n      <td>\\n                                无抵押\\n       ...</td>\n    </tr>\n    <tr>\n      <th>4</th>\n      <td>['玲珑府']</td>\n      <td>滨江-西兴</td>\n      <td>130.0</td>\n      <td>26461</td>\n      <td>11</td>\n      <td>中楼层 (共21层)</td>\n      <td>49.13㎡</td>\n      <td>暂无数据</td>\n      <td>板塔结合</td>\n      <td>南</td>\n      <td>钢混结构</td>\n      <td>精装</td>\n      <td>有</td>\n      <td>商品房</td>\n      <td>商住两用</td>\n      <td>满两年</td>\n      <td>非共有</td>\n      <td>\\n                                有抵押 34万元 招商银...</td>\n    </tr>\n    <tr>\n      <th>...</th>\n      <td>...</td>\n      <td>...</td>\n      <td>...</td>\n      <td>...</td>\n      <td>...</td>\n      <td>...</td>\n      <td>...</td>\n      <td>...</td>\n      <td>...</td>\n      <td>...</td>\n      <td>...</td>\n      <td>...</td>\n      <td>...</td>\n      <td>...</td>\n      <td>...</td>\n      <td>...</td>\n      <td>...</td>\n      <td>...</td>\n    </tr>\n    <tr>\n      <th>29022</th>\n      <td>['良渚文化村七贤郡']</td>\n      <td>余杭-良渚</td>\n      <td>280.0</td>\n      <td>31743</td>\n      <td>1</td>\n      <td>高楼层 (共9层)</td>\n      <td>88.21㎡</td>\n      <td>平层</td>\n      <td>板楼</td>\n      <td>南 北</td>\n      <td>钢混结构</td>\n      <td>精装</td>\n      <td>有</td>\n      <td>商品房</td>\n      <td>普通住宅</td>\n      <td>满五年</td>\n      <td>非共有</td>\n      <td>\\n                                有抵押 40万元 汇丰银...</td>\n    </tr>\n    <tr>\n      <th>29023</th>\n      <td>['西城时代家园']</td>\n      <td>余杭-未来科技城</td>\n      <td>325.0</td>\n      <td>35342</td>\n      <td>13</td>\n      <td>中楼层 (共11层)</td>\n      <td>91.96㎡</td>\n      <td>平层</td>\n      <td>板楼</td>\n      <td>南</td>\n      <td>钢混结构</td>\n      <td>简装</td>\n      <td>有</td>\n      <td>商品房</td>\n      <td>普通住宅</td>\n      <td>满两年</td>\n      <td>非共有</td>\n      <td>\\n                                有抵押\\n       ...</td>\n    </tr>\n    <tr>\n      <th>29024</th>\n      <td>['众安学君里']</td>\n      <td>余杭-未来科技城</td>\n      <td>295.0</td>\n      <td>32859</td>\n      <td>22</td>\n      <td>高楼层 (共24层)</td>\n      <td>89.78㎡</td>\n      <td>平层</td>\n      <td>板塔结合</td>\n      <td>南 北</td>\n      <td>钢混结构</td>\n      <td>简装</td>\n      <td>有</td>\n      <td>商品房</td>\n      <td>普通住宅</td>\n      <td>满两年</td>\n      <td>共有</td>\n      <td>\\n                                有抵押 80万元 业主自...</td>\n    </tr>\n    <tr>\n      <th>29025</th>\n      <td>['北秀蓝湾花苑']</td>\n      <td>余杭-良渚</td>\n      <td>320.0</td>\n      <td>25211</td>\n      <td>10</td>\n      <td>中楼层 (共11层)</td>\n      <td>126.93㎡</td>\n      <td>平层</td>\n      <td>板楼</td>\n      <td>南 北</td>\n      <td>钢混结构</td>\n      <td>精装</td>\n      <td>有</td>\n      <td>商品房</td>\n      <td>普通住宅</td>\n      <td>满五年</td>\n      <td>共有</td>\n      <td>\\n                                无抵押\\n       ...</td>\n    </tr>\n    <tr>\n      <th>29026</th>\n      <td>['亲亲家园二期']</td>\n      <td>余杭-三墩</td>\n      <td>405.0</td>\n      <td>34548</td>\n      <td>38</td>\n      <td>中楼层 (共6层)</td>\n      <td>117.23㎡</td>\n      <td>平层</td>\n      <td>板楼</td>\n      <td>南</td>\n      <td>钢混结构</td>\n      <td>精装</td>\n      <td>无</td>\n      <td>商品房</td>\n      <td>普通住宅</td>\n      <td>满五年</td>\n      <td>非共有</td>\n      <td>\\n                                无抵押\\n       ...</td>\n    </tr>\n  </tbody>\n</table>\n<p>29027 rows × 18 columns</p>\n</div>"
     },
     "execution_count": 4,
     "metadata": {},
     "output_type": "execute_result"
    }
   ],
   "source": [
    "select = result[filterColumn]\n",
    "select"
   ],
   "metadata": {
    "collapsed": false,
    "pycharm": {
     "name": "#%%\n"
    }
   }
  },
  {
   "cell_type": "markdown",
   "source": [
    "<h3>填充缺失值<h3/>"
   ],
   "metadata": {
    "collapsed": false
   }
  },
  {
   "cell_type": "code",
   "execution_count": 5,
   "outputs": [
    {
     "name": "stderr",
     "output_type": "stream",
     "text": [
      "C:\\Users\\Shirin\\AppData\\Local\\Temp\\ipykernel_11832\\1472428159.py:1: SettingWithCopyWarning: \n",
      "A value is trying to be set on a copy of a slice from a DataFrame\n",
      "\n",
      "See the caveats in the documentation: https://pandas.pydata.org/pandas-docs/stable/user_guide/indexing.html#returning-a-view-versus-a-copy\n",
      "  select['户型结构'].fillna(select['户型结构'].mode()[0],inplace=True)\n",
      "C:\\Users\\Shirin\\AppData\\Local\\Temp\\ipykernel_11832\\1472428159.py:2: SettingWithCopyWarning: \n",
      "A value is trying to be set on a copy of a slice from a DataFrame\n",
      "\n",
      "See the caveats in the documentation: https://pandas.pydata.org/pandas-docs/stable/user_guide/indexing.html#returning-a-view-versus-a-copy\n",
      "  select['建筑类型'].fillna(select['建筑类型'].mode()[0],inplace=True)\n",
      "C:\\Users\\Shirin\\AppData\\Local\\Temp\\ipykernel_11832\\1472428159.py:3: SettingWithCopyWarning: \n",
      "A value is trying to be set on a copy of a slice from a DataFrame\n",
      "\n",
      "See the caveats in the documentation: https://pandas.pydata.org/pandas-docs/stable/user_guide/indexing.html#returning-a-view-versus-a-copy\n",
      "  select['建筑结构'].fillna(select['建筑结构'].mode()[0],inplace=True)\n",
      "C:\\Users\\Shirin\\AppData\\Local\\Temp\\ipykernel_11832\\1472428159.py:4: SettingWithCopyWarning: \n",
      "A value is trying to be set on a copy of a slice from a DataFrame\n",
      "\n",
      "See the caveats in the documentation: https://pandas.pydata.org/pandas-docs/stable/user_guide/indexing.html#returning-a-view-versus-a-copy\n",
      "  select['装修情况'].fillna(select['装修情况'].mode()[0],inplace=True)\n",
      "C:\\Users\\Shirin\\AppData\\Local\\Temp\\ipykernel_11832\\1472428159.py:5: SettingWithCopyWarning: \n",
      "A value is trying to be set on a copy of a slice from a DataFrame\n",
      "\n",
      "See the caveats in the documentation: https://pandas.pydata.org/pandas-docs/stable/user_guide/indexing.html#returning-a-view-versus-a-copy\n",
      "  select['配备电梯'].fillna(select['配备电梯'].mode()[0],inplace=True)\n"
     ]
    }
   ],
   "source": [
    "select['户型结构'].fillna(select['户型结构'].mode()[0],inplace=True)\n",
    "select['建筑类型'].fillna(select['建筑类型'].mode()[0],inplace=True)\n",
    "select['建筑结构'].fillna(select['建筑结构'].mode()[0],inplace=True)\n",
    "select['装修情况'].fillna(select['装修情况'].mode()[0],inplace=True)\n",
    "select['配备电梯'].fillna(select['配备电梯'].mode()[0],inplace=True)"
   ],
   "metadata": {
    "collapsed": false,
    "pycharm": {
     "name": "#%%\n"
    }
   }
  },
  {
   "cell_type": "markdown",
   "source": [
    "<h3>截取字段<h3/>"
   ],
   "metadata": {
    "collapsed": false
   }
  },
  {
   "cell_type": "code",
   "execution_count": 6,
   "outputs": [
    {
     "name": "stderr",
     "output_type": "stream",
     "text": [
      "C:\\Users\\Shirin\\AppData\\Local\\Temp\\ipykernel_11832\\2951482925.py:1: SettingWithCopyWarning: \n",
      "A value is trying to be set on a copy of a slice from a DataFrame.\n",
      "Try using .loc[row_indexer,col_indexer] = value instead\n",
      "\n",
      "See the caveats in the documentation: https://pandas.pydata.org/pandas-docs/stable/user_guide/indexing.html#returning-a-view-versus-a-copy\n",
      "  select['小区名称'] = select['小区名称'].str[2:-2]\n",
      "C:\\Users\\Shirin\\AppData\\Local\\Temp\\ipykernel_11832\\2951482925.py:2: SettingWithCopyWarning: \n",
      "A value is trying to be set on a copy of a slice from a DataFrame.\n",
      "Try using .loc[row_indexer,col_indexer] = value instead\n",
      "\n",
      "See the caveats in the documentation: https://pandas.pydata.org/pandas-docs/stable/user_guide/indexing.html#returning-a-view-versus-a-copy\n",
      "  select['所在楼层'] = select['所在楼层'].str[0]\n",
      "C:\\Users\\Shirin\\AppData\\Local\\Temp\\ipykernel_11832\\2951482925.py:3: SettingWithCopyWarning: \n",
      "A value is trying to be set on a copy of a slice from a DataFrame.\n",
      "Try using .loc[row_indexer,col_indexer] = value instead\n",
      "\n",
      "See the caveats in the documentation: https://pandas.pydata.org/pandas-docs/stable/user_guide/indexing.html#returning-a-view-versus-a-copy\n",
      "  select['建筑面积'] = select['建筑面积'].str[0:-1]\n",
      "C:\\Users\\Shirin\\AppData\\Local\\Temp\\ipykernel_11832\\2951482925.py:11: SettingWithCopyWarning: \n",
      "A value is trying to be set on a copy of a slice from a DataFrame.\n",
      "Try using .loc[row_indexer,col_indexer] = value instead\n",
      "\n",
      "See the caveats in the documentation: https://pandas.pydata.org/pandas-docs/stable/user_guide/indexing.html#returning-a-view-versus-a-copy\n",
      "  select[['城市','街道']] = select['区域位置'].str.split('-',expand=True)\n",
      "C:\\Users\\Shirin\\AppData\\Local\\Temp\\ipykernel_11832\\2951482925.py:11: SettingWithCopyWarning: \n",
      "A value is trying to be set on a copy of a slice from a DataFrame.\n",
      "Try using .loc[row_indexer,col_indexer] = value instead\n",
      "\n",
      "See the caveats in the documentation: https://pandas.pydata.org/pandas-docs/stable/user_guide/indexing.html#returning-a-view-versus-a-copy\n",
      "  select[['城市','街道']] = select['区域位置'].str.split('-',expand=True)\n",
      "C:\\Users\\Shirin\\AppData\\Local\\Temp\\ipykernel_11832\\2951482925.py:12: SettingWithCopyWarning: \n",
      "A value is trying to be set on a copy of a slice from a DataFrame\n",
      "\n",
      "See the caveats in the documentation: https://pandas.pydata.org/pandas-docs/stable/user_guide/indexing.html#returning-a-view-versus-a-copy\n",
      "  select.drop(columns='区域位置',inplace=True)\n"
     ]
    }
   ],
   "source": [
    "select['小区名称'] = select['小区名称'].str[2:-2]\n",
    "select['所在楼层'] = select['所在楼层'].str[0]\n",
    "select['建筑面积'] = select['建筑面积'].str[0:-1]\n",
    "def extract_pledged(row):\n",
    "    if re.search(r'无抵押', row):\n",
    "        return '无'\n",
    "    elif re.search(r'有抵押', row):\n",
    "        return '有'\n",
    "    else:\n",
    "        return '未知'\n",
    "select[['城市','街道']] = select['区域位置'].str.split('-',expand=True)\n",
    "select.drop(columns='区域位置',inplace=True)"
   ],
   "metadata": {
    "collapsed": false,
    "pycharm": {
     "name": "#%%\n"
    }
   }
  },
  {
   "cell_type": "markdown",
   "source": [
    "<h3>保存<h3/>"
   ],
   "metadata": {
    "collapsed": false
   }
  },
  {
   "cell_type": "code",
   "execution_count": 7,
   "outputs": [
    {
     "name": "stderr",
     "output_type": "stream",
     "text": [
      "C:\\Users\\Shirin\\AppData\\Local\\Temp\\ipykernel_11832\\3190850317.py:1: SettingWithCopyWarning: \n",
      "A value is trying to be set on a copy of a slice from a DataFrame.\n",
      "Try using .loc[row_indexer,col_indexer] = value instead\n",
      "\n",
      "See the caveats in the documentation: https://pandas.pydata.org/pandas-docs/stable/user_guide/indexing.html#returning-a-view-versus-a-copy\n",
      "  select['建筑面积'] = select['建筑面积'].astype(float)\n"
     ]
    }
   ],
   "source": [
    "select['建筑面积'] = select['建筑面积'].astype(float)\n",
    "select.to_csv('../data/deal/total_fordraw.csv')"
   ],
   "metadata": {
    "collapsed": false,
    "pycharm": {
     "name": "#%%\n"
    }
   }
  },
  {
   "cell_type": "markdown",
   "source": [
    "### 重新读取信息(处理用作数据历史数据查询)"
   ],
   "metadata": {
    "collapsed": false
   }
  },
  {
   "cell_type": "code",
   "execution_count": 54,
   "outputs": [
    {
     "data": {
      "text/plain": "               小区名称      区域位置     总价     单价  关注度        所在楼层     建筑面积  户型结构  \\\n0       ['欣盛东方郡西区']  滨江-滨江区政府  930.0  69053    4  中楼层 (共18层)  134.68㎡    平层   \n1        ['铂金时代公寓']  滨江-滨江区政府  765.0  55423    7  低楼层 (共30层)  138.03㎡    平层   \n2           ['星耀城']  滨江-滨江区政府  225.0  34611  104  低楼层 (共20层)   65.01㎡  暂无数据   \n3         ['中赢康康谷']  滨江-滨江区政府  148.0  31835   18  低楼层 (共18层)   46.49㎡  暂无数据   \n4           ['玲珑府']     滨江-西兴  130.0  26461   11  中楼层 (共21层)   49.13㎡  暂无数据   \n...             ...       ...    ...    ...  ...         ...      ...   ...   \n29022  ['良渚文化村七贤郡']     余杭-良渚  280.0  31743    1   高楼层 (共9层)   88.21㎡    平层   \n29023    ['西城时代家园']  余杭-未来科技城  325.0  35342   13  中楼层 (共11层)   91.96㎡    平层   \n29024     ['众安学君里']  余杭-未来科技城  295.0  32859   22  高楼层 (共24层)   89.78㎡    平层   \n29025    ['北秀蓝湾花苑']     余杭-良渚  320.0  25211   10  中楼层 (共11层)  126.93㎡    平层   \n29026    ['亲亲家园二期']     余杭-三墩  405.0  34548   38   中楼层 (共6层)  117.23㎡    平层   \n\n       建筑类型 房屋朝向  建筑结构 装修情况 配备电梯 交易权属  房屋用途 房屋年限 产权所属  \\\n0      板塔结合  南 北  钢混结构   精装    有  商品房  普通住宅  满五年   共有   \n1      板塔结合  南 北  砖混结构   精装    有  商品房  普通住宅  满五年   共有   \n2      板塔结合   西南  钢混结构   精装    有  商品房  商住两用  满五年   共有   \n3        板楼    南  钢混结构   精装    有  商品房  商住两用  满两年   共有   \n4      板塔结合    南  钢混结构   精装    有  商品房  商住两用  满两年  非共有   \n...     ...  ...   ...  ...  ...  ...   ...  ...  ...   \n29022    板楼  南 北  钢混结构   精装    有  商品房  普通住宅  满五年  非共有   \n29023    板楼    南  钢混结构   简装    有  商品房  普通住宅  满两年  非共有   \n29024  板塔结合  南 北  钢混结构   简装    有  商品房  普通住宅  满两年   共有   \n29025    板楼  南 北  钢混结构   精装    有  商品房  普通住宅  满五年   共有   \n29026    板楼    南  钢混结构   精装    无  商品房  普通住宅  满五年  非共有   \n\n                                                    抵押信息  \n0      \\n                                无抵押\\n       ...  \n1      \\n                                有抵押 业主自还\\n  ...  \n2      \\n                                无抵押\\n       ...  \n3      \\n                                无抵押\\n       ...  \n4      \\n                                有抵押 34万元 招商银...  \n...                                                  ...  \n29022  \\n                                有抵押 40万元 汇丰银...  \n29023  \\n                                有抵押\\n       ...  \n29024  \\n                                有抵押 80万元 业主自...  \n29025  \\n                                无抵押\\n       ...  \n29026  \\n                                无抵押\\n       ...  \n\n[29027 rows x 18 columns]",
      "text/html": "<div>\n<style scoped>\n    .dataframe tbody tr th:only-of-type {\n        vertical-align: middle;\n    }\n\n    .dataframe tbody tr th {\n        vertical-align: top;\n    }\n\n    .dataframe thead th {\n        text-align: right;\n    }\n</style>\n<table border=\"1\" class=\"dataframe\">\n  <thead>\n    <tr style=\"text-align: right;\">\n      <th></th>\n      <th>小区名称</th>\n      <th>区域位置</th>\n      <th>总价</th>\n      <th>单价</th>\n      <th>关注度</th>\n      <th>所在楼层</th>\n      <th>建筑面积</th>\n      <th>户型结构</th>\n      <th>建筑类型</th>\n      <th>房屋朝向</th>\n      <th>建筑结构</th>\n      <th>装修情况</th>\n      <th>配备电梯</th>\n      <th>交易权属</th>\n      <th>房屋用途</th>\n      <th>房屋年限</th>\n      <th>产权所属</th>\n      <th>抵押信息</th>\n    </tr>\n  </thead>\n  <tbody>\n    <tr>\n      <th>0</th>\n      <td>['欣盛东方郡西区']</td>\n      <td>滨江-滨江区政府</td>\n      <td>930.0</td>\n      <td>69053</td>\n      <td>4</td>\n      <td>中楼层 (共18层)</td>\n      <td>134.68㎡</td>\n      <td>平层</td>\n      <td>板塔结合</td>\n      <td>南 北</td>\n      <td>钢混结构</td>\n      <td>精装</td>\n      <td>有</td>\n      <td>商品房</td>\n      <td>普通住宅</td>\n      <td>满五年</td>\n      <td>共有</td>\n      <td>\\n                                无抵押\\n       ...</td>\n    </tr>\n    <tr>\n      <th>1</th>\n      <td>['铂金时代公寓']</td>\n      <td>滨江-滨江区政府</td>\n      <td>765.0</td>\n      <td>55423</td>\n      <td>7</td>\n      <td>低楼层 (共30层)</td>\n      <td>138.03㎡</td>\n      <td>平层</td>\n      <td>板塔结合</td>\n      <td>南 北</td>\n      <td>砖混结构</td>\n      <td>精装</td>\n      <td>有</td>\n      <td>商品房</td>\n      <td>普通住宅</td>\n      <td>满五年</td>\n      <td>共有</td>\n      <td>\\n                                有抵押 业主自还\\n  ...</td>\n    </tr>\n    <tr>\n      <th>2</th>\n      <td>['星耀城']</td>\n      <td>滨江-滨江区政府</td>\n      <td>225.0</td>\n      <td>34611</td>\n      <td>104</td>\n      <td>低楼层 (共20层)</td>\n      <td>65.01㎡</td>\n      <td>暂无数据</td>\n      <td>板塔结合</td>\n      <td>西南</td>\n      <td>钢混结构</td>\n      <td>精装</td>\n      <td>有</td>\n      <td>商品房</td>\n      <td>商住两用</td>\n      <td>满五年</td>\n      <td>共有</td>\n      <td>\\n                                无抵押\\n       ...</td>\n    </tr>\n    <tr>\n      <th>3</th>\n      <td>['中赢康康谷']</td>\n      <td>滨江-滨江区政府</td>\n      <td>148.0</td>\n      <td>31835</td>\n      <td>18</td>\n      <td>低楼层 (共18层)</td>\n      <td>46.49㎡</td>\n      <td>暂无数据</td>\n      <td>板楼</td>\n      <td>南</td>\n      <td>钢混结构</td>\n      <td>精装</td>\n      <td>有</td>\n      <td>商品房</td>\n      <td>商住两用</td>\n      <td>满两年</td>\n      <td>共有</td>\n      <td>\\n                                无抵押\\n       ...</td>\n    </tr>\n    <tr>\n      <th>4</th>\n      <td>['玲珑府']</td>\n      <td>滨江-西兴</td>\n      <td>130.0</td>\n      <td>26461</td>\n      <td>11</td>\n      <td>中楼层 (共21层)</td>\n      <td>49.13㎡</td>\n      <td>暂无数据</td>\n      <td>板塔结合</td>\n      <td>南</td>\n      <td>钢混结构</td>\n      <td>精装</td>\n      <td>有</td>\n      <td>商品房</td>\n      <td>商住两用</td>\n      <td>满两年</td>\n      <td>非共有</td>\n      <td>\\n                                有抵押 34万元 招商银...</td>\n    </tr>\n    <tr>\n      <th>...</th>\n      <td>...</td>\n      <td>...</td>\n      <td>...</td>\n      <td>...</td>\n      <td>...</td>\n      <td>...</td>\n      <td>...</td>\n      <td>...</td>\n      <td>...</td>\n      <td>...</td>\n      <td>...</td>\n      <td>...</td>\n      <td>...</td>\n      <td>...</td>\n      <td>...</td>\n      <td>...</td>\n      <td>...</td>\n      <td>...</td>\n    </tr>\n    <tr>\n      <th>29022</th>\n      <td>['良渚文化村七贤郡']</td>\n      <td>余杭-良渚</td>\n      <td>280.0</td>\n      <td>31743</td>\n      <td>1</td>\n      <td>高楼层 (共9层)</td>\n      <td>88.21㎡</td>\n      <td>平层</td>\n      <td>板楼</td>\n      <td>南 北</td>\n      <td>钢混结构</td>\n      <td>精装</td>\n      <td>有</td>\n      <td>商品房</td>\n      <td>普通住宅</td>\n      <td>满五年</td>\n      <td>非共有</td>\n      <td>\\n                                有抵押 40万元 汇丰银...</td>\n    </tr>\n    <tr>\n      <th>29023</th>\n      <td>['西城时代家园']</td>\n      <td>余杭-未来科技城</td>\n      <td>325.0</td>\n      <td>35342</td>\n      <td>13</td>\n      <td>中楼层 (共11层)</td>\n      <td>91.96㎡</td>\n      <td>平层</td>\n      <td>板楼</td>\n      <td>南</td>\n      <td>钢混结构</td>\n      <td>简装</td>\n      <td>有</td>\n      <td>商品房</td>\n      <td>普通住宅</td>\n      <td>满两年</td>\n      <td>非共有</td>\n      <td>\\n                                有抵押\\n       ...</td>\n    </tr>\n    <tr>\n      <th>29024</th>\n      <td>['众安学君里']</td>\n      <td>余杭-未来科技城</td>\n      <td>295.0</td>\n      <td>32859</td>\n      <td>22</td>\n      <td>高楼层 (共24层)</td>\n      <td>89.78㎡</td>\n      <td>平层</td>\n      <td>板塔结合</td>\n      <td>南 北</td>\n      <td>钢混结构</td>\n      <td>简装</td>\n      <td>有</td>\n      <td>商品房</td>\n      <td>普通住宅</td>\n      <td>满两年</td>\n      <td>共有</td>\n      <td>\\n                                有抵押 80万元 业主自...</td>\n    </tr>\n    <tr>\n      <th>29025</th>\n      <td>['北秀蓝湾花苑']</td>\n      <td>余杭-良渚</td>\n      <td>320.0</td>\n      <td>25211</td>\n      <td>10</td>\n      <td>中楼层 (共11层)</td>\n      <td>126.93㎡</td>\n      <td>平层</td>\n      <td>板楼</td>\n      <td>南 北</td>\n      <td>钢混结构</td>\n      <td>精装</td>\n      <td>有</td>\n      <td>商品房</td>\n      <td>普通住宅</td>\n      <td>满五年</td>\n      <td>共有</td>\n      <td>\\n                                无抵押\\n       ...</td>\n    </tr>\n    <tr>\n      <th>29026</th>\n      <td>['亲亲家园二期']</td>\n      <td>余杭-三墩</td>\n      <td>405.0</td>\n      <td>34548</td>\n      <td>38</td>\n      <td>中楼层 (共6层)</td>\n      <td>117.23㎡</td>\n      <td>平层</td>\n      <td>板楼</td>\n      <td>南</td>\n      <td>钢混结构</td>\n      <td>精装</td>\n      <td>无</td>\n      <td>商品房</td>\n      <td>普通住宅</td>\n      <td>满五年</td>\n      <td>非共有</td>\n      <td>\\n                                无抵押\\n       ...</td>\n    </tr>\n  </tbody>\n</table>\n<p>29027 rows × 18 columns</p>\n</div>"
     },
     "execution_count": 54,
     "metadata": {},
     "output_type": "execute_result"
    }
   ],
   "source": [
    "result = pd.read_csv('../data/binjiang杭州二手房.csv',encoding='GB18030',index_col=0)\n",
    "for i in city:\n",
    "    data = pd.read_csv('../data/{}杭州二手房.csv'.format(i),encoding='GB18030',index_col=0)\n",
    "    result = pd.concat([result,data],ignore_index=True)\n",
    "result = result[filterColumn]\n",
    "result"
   ],
   "metadata": {
    "collapsed": false,
    "pycharm": {
     "name": "#%%\n"
    }
   }
  },
  {
   "cell_type": "markdown",
   "source": [
    "### 处理抵押信息"
   ],
   "metadata": {
    "collapsed": false
   }
  },
  {
   "cell_type": "code",
   "execution_count": 55,
   "outputs": [],
   "source": [
    "def extract_numbers(s):\n",
    "    # 使用正则表达式查找所有数字\n",
    "    numbers = re.findall(r'\\d+', s)\n",
    "    # 如果找到了数字，则返回第一个找到的数字（假设每个字符串只有一个数字）\n",
    "    # 如果需要处理多个数字，可以根据需要修改这里的逻辑\n",
    "    if numbers:\n",
    "        return ',' + numbers[0] + 'w'  # 转换为整数\n",
    "    else:\n",
    "        return None  # 如果没有找到数字，返回None或其他默认值\n",
    "def extract_pledged(row):\n",
    "    if re.search(r'无抵押', row):\n",
    "        return '无'\n",
    "    elif re.search(r'有抵押', row):\n",
    "        return '有'\n",
    "    else:\n",
    "        return '未知'\n",
    "result['欠款'] = result['抵押信息'].apply(extract_numbers)\n",
    "result['抵押信息'] = result['抵押信息'].apply(extract_pledged)\n",
    "result['抵押信息'] = result['抵押信息']+result['欠款']\n",
    "result['抵押信息'].fillna('无',inplace=True)"
   ],
   "metadata": {
    "collapsed": false,
    "pycharm": {
     "name": "#%%\n"
    }
   }
  },
  {
   "cell_type": "markdown",
   "source": [
    "### 处理缺失值"
   ],
   "metadata": {
    "collapsed": false
   }
  },
  {
   "cell_type": "code",
   "execution_count": 56,
   "outputs": [
    {
     "data": {
      "text/plain": "               小区名称      区域位置     总价     单价  关注度        所在楼层     建筑面积  户型结构  \\\n0       ['欣盛东方郡西区']  滨江-滨江区政府  930.0  69053    4  中楼层 (共18层)  134.68㎡    平层   \n1        ['铂金时代公寓']  滨江-滨江区政府  765.0  55423    7  低楼层 (共30层)  138.03㎡    平层   \n2           ['星耀城']  滨江-滨江区政府  225.0  34611  104  低楼层 (共20层)   65.01㎡  暂无数据   \n3         ['中赢康康谷']  滨江-滨江区政府  148.0  31835   18  低楼层 (共18层)   46.49㎡  暂无数据   \n4           ['玲珑府']     滨江-西兴  130.0  26461   11  中楼层 (共21层)   49.13㎡  暂无数据   \n...             ...       ...    ...    ...  ...         ...      ...   ...   \n29022  ['良渚文化村七贤郡']     余杭-良渚  280.0  31743    1   高楼层 (共9层)   88.21㎡    平层   \n29023    ['西城时代家园']  余杭-未来科技城  325.0  35342   13  中楼层 (共11层)   91.96㎡    平层   \n29024     ['众安学君里']  余杭-未来科技城  295.0  32859   22  高楼层 (共24层)   89.78㎡    平层   \n29025    ['北秀蓝湾花苑']     余杭-良渚  320.0  25211   10  中楼层 (共11层)  126.93㎡    平层   \n29026    ['亲亲家园二期']     余杭-三墩  405.0  34548   38   中楼层 (共6层)  117.23㎡    平层   \n\n       建筑类型 房屋朝向  建筑结构 装修情况 配备电梯 交易权属  房屋用途 房屋年限 产权所属   抵押信息    欠款  \n0      板塔结合  南 北  钢混结构   精装    有  商品房  普通住宅  满五年   共有      无  None  \n1      板塔结合  南 北  砖混结构   精装    有  商品房  普通住宅  满五年   共有      无  None  \n2      板塔结合   西南  钢混结构   精装    有  商品房  商住两用  满五年   共有      无  None  \n3        板楼    南  钢混结构   精装    有  商品房  商住两用  满两年   共有      无  None  \n4      板塔结合    南  钢混结构   精装    有  商品房  商住两用  满两年  非共有  有,34w  ,34w  \n...     ...  ...   ...  ...  ...  ...   ...  ...  ...    ...   ...  \n29022    板楼  南 北  钢混结构   精装    有  商品房  普通住宅  满五年  非共有  有,40w  ,40w  \n29023    板楼    南  钢混结构   简装    有  商品房  普通住宅  满两年  非共有      无  None  \n29024  板塔结合  南 北  钢混结构   简装    有  商品房  普通住宅  满两年   共有  有,80w  ,80w  \n29025    板楼  南 北  钢混结构   精装    有  商品房  普通住宅  满五年   共有      无  None  \n29026    板楼    南  钢混结构   精装    无  商品房  普通住宅  满五年  非共有      无  None  \n\n[29027 rows x 19 columns]",
      "text/html": "<div>\n<style scoped>\n    .dataframe tbody tr th:only-of-type {\n        vertical-align: middle;\n    }\n\n    .dataframe tbody tr th {\n        vertical-align: top;\n    }\n\n    .dataframe thead th {\n        text-align: right;\n    }\n</style>\n<table border=\"1\" class=\"dataframe\">\n  <thead>\n    <tr style=\"text-align: right;\">\n      <th></th>\n      <th>小区名称</th>\n      <th>区域位置</th>\n      <th>总价</th>\n      <th>单价</th>\n      <th>关注度</th>\n      <th>所在楼层</th>\n      <th>建筑面积</th>\n      <th>户型结构</th>\n      <th>建筑类型</th>\n      <th>房屋朝向</th>\n      <th>建筑结构</th>\n      <th>装修情况</th>\n      <th>配备电梯</th>\n      <th>交易权属</th>\n      <th>房屋用途</th>\n      <th>房屋年限</th>\n      <th>产权所属</th>\n      <th>抵押信息</th>\n      <th>欠款</th>\n    </tr>\n  </thead>\n  <tbody>\n    <tr>\n      <th>0</th>\n      <td>['欣盛东方郡西区']</td>\n      <td>滨江-滨江区政府</td>\n      <td>930.0</td>\n      <td>69053</td>\n      <td>4</td>\n      <td>中楼层 (共18层)</td>\n      <td>134.68㎡</td>\n      <td>平层</td>\n      <td>板塔结合</td>\n      <td>南 北</td>\n      <td>钢混结构</td>\n      <td>精装</td>\n      <td>有</td>\n      <td>商品房</td>\n      <td>普通住宅</td>\n      <td>满五年</td>\n      <td>共有</td>\n      <td>无</td>\n      <td>None</td>\n    </tr>\n    <tr>\n      <th>1</th>\n      <td>['铂金时代公寓']</td>\n      <td>滨江-滨江区政府</td>\n      <td>765.0</td>\n      <td>55423</td>\n      <td>7</td>\n      <td>低楼层 (共30层)</td>\n      <td>138.03㎡</td>\n      <td>平层</td>\n      <td>板塔结合</td>\n      <td>南 北</td>\n      <td>砖混结构</td>\n      <td>精装</td>\n      <td>有</td>\n      <td>商品房</td>\n      <td>普通住宅</td>\n      <td>满五年</td>\n      <td>共有</td>\n      <td>无</td>\n      <td>None</td>\n    </tr>\n    <tr>\n      <th>2</th>\n      <td>['星耀城']</td>\n      <td>滨江-滨江区政府</td>\n      <td>225.0</td>\n      <td>34611</td>\n      <td>104</td>\n      <td>低楼层 (共20层)</td>\n      <td>65.01㎡</td>\n      <td>暂无数据</td>\n      <td>板塔结合</td>\n      <td>西南</td>\n      <td>钢混结构</td>\n      <td>精装</td>\n      <td>有</td>\n      <td>商品房</td>\n      <td>商住两用</td>\n      <td>满五年</td>\n      <td>共有</td>\n      <td>无</td>\n      <td>None</td>\n    </tr>\n    <tr>\n      <th>3</th>\n      <td>['中赢康康谷']</td>\n      <td>滨江-滨江区政府</td>\n      <td>148.0</td>\n      <td>31835</td>\n      <td>18</td>\n      <td>低楼层 (共18层)</td>\n      <td>46.49㎡</td>\n      <td>暂无数据</td>\n      <td>板楼</td>\n      <td>南</td>\n      <td>钢混结构</td>\n      <td>精装</td>\n      <td>有</td>\n      <td>商品房</td>\n      <td>商住两用</td>\n      <td>满两年</td>\n      <td>共有</td>\n      <td>无</td>\n      <td>None</td>\n    </tr>\n    <tr>\n      <th>4</th>\n      <td>['玲珑府']</td>\n      <td>滨江-西兴</td>\n      <td>130.0</td>\n      <td>26461</td>\n      <td>11</td>\n      <td>中楼层 (共21层)</td>\n      <td>49.13㎡</td>\n      <td>暂无数据</td>\n      <td>板塔结合</td>\n      <td>南</td>\n      <td>钢混结构</td>\n      <td>精装</td>\n      <td>有</td>\n      <td>商品房</td>\n      <td>商住两用</td>\n      <td>满两年</td>\n      <td>非共有</td>\n      <td>有,34w</td>\n      <td>,34w</td>\n    </tr>\n    <tr>\n      <th>...</th>\n      <td>...</td>\n      <td>...</td>\n      <td>...</td>\n      <td>...</td>\n      <td>...</td>\n      <td>...</td>\n      <td>...</td>\n      <td>...</td>\n      <td>...</td>\n      <td>...</td>\n      <td>...</td>\n      <td>...</td>\n      <td>...</td>\n      <td>...</td>\n      <td>...</td>\n      <td>...</td>\n      <td>...</td>\n      <td>...</td>\n      <td>...</td>\n    </tr>\n    <tr>\n      <th>29022</th>\n      <td>['良渚文化村七贤郡']</td>\n      <td>余杭-良渚</td>\n      <td>280.0</td>\n      <td>31743</td>\n      <td>1</td>\n      <td>高楼层 (共9层)</td>\n      <td>88.21㎡</td>\n      <td>平层</td>\n      <td>板楼</td>\n      <td>南 北</td>\n      <td>钢混结构</td>\n      <td>精装</td>\n      <td>有</td>\n      <td>商品房</td>\n      <td>普通住宅</td>\n      <td>满五年</td>\n      <td>非共有</td>\n      <td>有,40w</td>\n      <td>,40w</td>\n    </tr>\n    <tr>\n      <th>29023</th>\n      <td>['西城时代家园']</td>\n      <td>余杭-未来科技城</td>\n      <td>325.0</td>\n      <td>35342</td>\n      <td>13</td>\n      <td>中楼层 (共11层)</td>\n      <td>91.96㎡</td>\n      <td>平层</td>\n      <td>板楼</td>\n      <td>南</td>\n      <td>钢混结构</td>\n      <td>简装</td>\n      <td>有</td>\n      <td>商品房</td>\n      <td>普通住宅</td>\n      <td>满两年</td>\n      <td>非共有</td>\n      <td>无</td>\n      <td>None</td>\n    </tr>\n    <tr>\n      <th>29024</th>\n      <td>['众安学君里']</td>\n      <td>余杭-未来科技城</td>\n      <td>295.0</td>\n      <td>32859</td>\n      <td>22</td>\n      <td>高楼层 (共24层)</td>\n      <td>89.78㎡</td>\n      <td>平层</td>\n      <td>板塔结合</td>\n      <td>南 北</td>\n      <td>钢混结构</td>\n      <td>简装</td>\n      <td>有</td>\n      <td>商品房</td>\n      <td>普通住宅</td>\n      <td>满两年</td>\n      <td>共有</td>\n      <td>有,80w</td>\n      <td>,80w</td>\n    </tr>\n    <tr>\n      <th>29025</th>\n      <td>['北秀蓝湾花苑']</td>\n      <td>余杭-良渚</td>\n      <td>320.0</td>\n      <td>25211</td>\n      <td>10</td>\n      <td>中楼层 (共11层)</td>\n      <td>126.93㎡</td>\n      <td>平层</td>\n      <td>板楼</td>\n      <td>南 北</td>\n      <td>钢混结构</td>\n      <td>精装</td>\n      <td>有</td>\n      <td>商品房</td>\n      <td>普通住宅</td>\n      <td>满五年</td>\n      <td>共有</td>\n      <td>无</td>\n      <td>None</td>\n    </tr>\n    <tr>\n      <th>29026</th>\n      <td>['亲亲家园二期']</td>\n      <td>余杭-三墩</td>\n      <td>405.0</td>\n      <td>34548</td>\n      <td>38</td>\n      <td>中楼层 (共6层)</td>\n      <td>117.23㎡</td>\n      <td>平层</td>\n      <td>板楼</td>\n      <td>南</td>\n      <td>钢混结构</td>\n      <td>精装</td>\n      <td>无</td>\n      <td>商品房</td>\n      <td>普通住宅</td>\n      <td>满五年</td>\n      <td>非共有</td>\n      <td>无</td>\n      <td>None</td>\n    </tr>\n  </tbody>\n</table>\n<p>29027 rows × 19 columns</p>\n</div>"
     },
     "execution_count": 56,
     "metadata": {},
     "output_type": "execute_result"
    }
   ],
   "source": [
    "result['户型结构'].fillna(result['户型结构'].mode()[0],inplace=True)\n",
    "result['建筑类型'].fillna(result['建筑类型'].mode()[0],inplace=True)\n",
    "result['建筑结构'].fillna(result['建筑结构'].mode()[0],inplace=True)\n",
    "result['装修情况'].fillna(result['装修情况'].mode()[0],inplace=True)\n",
    "result['配备电梯'].fillna(result['配备电梯'].mode()[0],inplace=True)\n",
    "result"
   ],
   "metadata": {
    "collapsed": false,
    "pycharm": {
     "name": "#%%\n"
    }
   }
  },
  {
   "cell_type": "markdown",
   "source": [
    "### 截取字段"
   ],
   "metadata": {
    "collapsed": false
   }
  },
  {
   "cell_type": "code",
   "execution_count": 57,
   "outputs": [],
   "source": [
    "result['小区名称'] = result['小区名称'].str[2:-2]\n",
    "result['建筑面积'] = result['建筑面积'].str[0:-1]\n",
    "def extract_pledged(row):\n",
    "    if re.search(r'无抵押', row):\n",
    "        return '无'\n",
    "    elif re.search(r'有抵押', row):\n",
    "        return '有'\n",
    "    else:\n",
    "        return '未知'\n",
    "result[['城市','街道']] = result['区域位置'].str.split('-',expand=True)\n",
    "result.drop(columns='区域位置',inplace=True)\n",
    "result.drop(columns='欠款',inplace=True)\n",
    "result.to_csv('../data/deal/total_forhistory.csv')"
   ],
   "metadata": {
    "collapsed": false,
    "pycharm": {
     "name": "#%%\n"
    }
   }
  }
 ],
 "metadata": {
  "kernelspec": {
   "display_name": "Python 3",
   "language": "python",
   "name": "python3"
  },
  "language_info": {
   "codemirror_mode": {
    "name": "ipython",
    "version": 2
   },
   "file_extension": ".py",
   "mimetype": "text/x-python",
   "name": "python",
   "nbconvert_exporter": "python",
   "pygments_lexer": "ipython2",
   "version": "2.7.6"
  }
 },
 "nbformat": 4,
 "nbformat_minor": 0
}